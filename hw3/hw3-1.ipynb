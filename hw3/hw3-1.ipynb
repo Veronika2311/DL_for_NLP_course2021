{
 "cells": [
  {
   "cell_type": "code",
   "execution_count": 1,
   "metadata": {
    "colab": {
     "base_uri": "https://localhost:8080/",
     "height": 513
    },
    "id": "Y0fOWhqwW-AT",
    "outputId": "41f40fd4-ebae-43e8-fd1c-41db3fb72471"
   },
   "outputs": [
    {
     "data": {
      "text/plain": [
       "'\\n!pip install pandas\\n!pip install torch\\n!pip install nltk\\n!pip install tqdm\\n!pip install seaborn\\n!pip install numpy\\n!pip install sklearn\\n'"
      ]
     },
     "execution_count": 1,
     "metadata": {},
     "output_type": "execute_result"
    }
   ],
   "source": [
    "'''\n",
    "!pip install pandas\n",
    "!pip install torch\n",
    "!pip install nltk\n",
    "!pip install tqdm\n",
    "!pip install seaborn\n",
    "!pip install numpy\n",
    "!pip install sklearn\n",
    "'''"
   ]
  },
  {
   "cell_type": "code",
   "execution_count": 2,
   "metadata": {
    "colab": {
     "base_uri": "https://localhost:8080/",
     "height": 68
    },
    "id": "u3wugeOHW-AV",
    "outputId": "7979e6ad-bff3-4493-c0e7-a9666383f9ae"
   },
   "outputs": [
    {
     "name": "stderr",
     "output_type": "stream",
     "text": [
      "[nltk_data] Downloading package punkt to\n",
      "[nltk_data]     C:\\Users\\veron\\AppData\\Roaming\\nltk_data...\n",
      "[nltk_data]   Package punkt is already up-to-date!\n"
     ]
    },
    {
     "data": {
      "text/plain": [
       "True"
      ]
     },
     "execution_count": 2,
     "metadata": {},
     "output_type": "execute_result"
    }
   ],
   "source": [
    "import nltk\n",
    "nltk.download('punkt')"
   ]
  },
  {
   "cell_type": "code",
   "execution_count": 3,
   "metadata": {},
   "outputs": [],
   "source": [
    "import wget"
   ]
  },
  {
   "cell_type": "markdown",
   "metadata": {
    "id": "m9XIrxSmW-AX"
   },
   "source": [
    "# Скачиваем данные"
   ]
  },
  {
   "cell_type": "code",
   "execution_count": 4,
   "metadata": {
    "colab": {
     "base_uri": "https://localhost:8080/",
     "height": 204
    },
    "id": "ep1FB3IBW-AY",
    "outputId": "ed833b2b-3b1a-492a-d9a3-ad845a9074c0"
   },
   "outputs": [],
   "source": [
    "#wget.download('https://raw.githubusercontent.com/semensorokin/DLforNLP_course_material/master/Homework2/answers_subsample.csv')"
   ]
  },
  {
   "cell_type": "code",
   "execution_count": 5,
   "metadata": {
    "id": "BWA7IClKW-Aa"
   },
   "outputs": [],
   "source": [
    "# если ругается на то, что нет wget\n",
    "# !apt-get install wget"
   ]
  },
  {
   "cell_type": "code",
   "execution_count": 6,
   "metadata": {
    "colab": {
     "base_uri": "https://localhost:8080/",
     "height": 68
    },
    "id": "qJpFTPpsW-Ac",
    "outputId": "614d0244-d82c-43fd-c756-c33a3383fa30"
   },
   "outputs": [
    {
     "name": "stderr",
     "output_type": "stream",
     "text": [
      "\"ls\" ­Ґ пў«пҐвбп ў­гваҐ­­Ґ© Ё«Ё ў­Ґи­Ґ©\n",
      "Є®¬ ­¤®©, ЁбЇ®«­пҐ¬®© Їа®Ја ¬¬®© Ё«Ё Ї ЄҐв­л¬ д ©«®¬.\n"
     ]
    }
   ],
   "source": [
    "!ls -l"
   ]
  },
  {
   "cell_type": "code",
   "execution_count": 7,
   "metadata": {
    "id": "qmzaEwy9W-Ae"
   },
   "outputs": [],
   "source": [
    "import pandas as pd"
   ]
  },
  {
   "cell_type": "code",
   "execution_count": 8,
   "metadata": {
    "id": "BbDKxq4EW-Ag"
   },
   "outputs": [],
   "source": [
    "data = pd.read_csv('answers_subsample.csv')"
   ]
  },
  {
   "cell_type": "code",
   "execution_count": 9,
   "metadata": {
    "colab": {
     "base_uri": "https://localhost:8080/",
     "height": 419
    },
    "id": "hcAdsbS7W-Ai",
    "outputId": "fe4de523-6803-40cd-ea40-a993217c57d3"
   },
   "outputs": [
    {
     "data": {
      "text/html": [
       "<div>\n",
       "<style scoped>\n",
       "    .dataframe tbody tr th:only-of-type {\n",
       "        vertical-align: middle;\n",
       "    }\n",
       "\n",
       "    .dataframe tbody tr th {\n",
       "        vertical-align: top;\n",
       "    }\n",
       "\n",
       "    .dataframe thead th {\n",
       "        text-align: right;\n",
       "    }\n",
       "</style>\n",
       "<table border=\"1\" class=\"dataframe\">\n",
       "  <thead>\n",
       "    <tr style=\"text-align: right;\">\n",
       "      <th></th>\n",
       "      <th>category</th>\n",
       "      <th>text</th>\n",
       "    </tr>\n",
       "  </thead>\n",
       "  <tbody>\n",
       "    <tr>\n",
       "      <th>0</th>\n",
       "      <td>business</td>\n",
       "      <td>Могут ли в россельхозбанке дать в залог норков...</td>\n",
       "    </tr>\n",
       "    <tr>\n",
       "      <th>1</th>\n",
       "      <td>law</td>\n",
       "      <td>Может ли срочник перевестись на контракт после...</td>\n",
       "    </tr>\n",
       "    <tr>\n",
       "      <th>2</th>\n",
       "      <td>business</td>\n",
       "      <td>Продажа недвижимости по ипотеки ? ( арестованы...</td>\n",
       "    </tr>\n",
       "    <tr>\n",
       "      <th>3</th>\n",
       "      <td>business</td>\n",
       "      <td>В чем смысл криптовалюты, какая от неё выгода ...</td>\n",
       "    </tr>\n",
       "    <tr>\n",
       "      <th>4</th>\n",
       "      <td>law</td>\n",
       "      <td>часть 1 статья 158 похитил телефон</td>\n",
       "    </tr>\n",
       "    <tr>\n",
       "      <th>...</th>\n",
       "      <td>...</td>\n",
       "      <td>...</td>\n",
       "    </tr>\n",
       "    <tr>\n",
       "      <th>237774</th>\n",
       "      <td>relax</td>\n",
       "      <td>елку нарядили? =)</td>\n",
       "    </tr>\n",
       "    <tr>\n",
       "      <th>237775</th>\n",
       "      <td>law</td>\n",
       "      <td>Имеется переработка при 75% ставки, отгулы не ...</td>\n",
       "    </tr>\n",
       "    <tr>\n",
       "      <th>237776</th>\n",
       "      <td>food</td>\n",
       "      <td>Попробовала варить рис с половиной кубика для ...</td>\n",
       "    </tr>\n",
       "    <tr>\n",
       "      <th>237777</th>\n",
       "      <td>food</td>\n",
       "      <td>Почему рекоменд... Почему рекомендуют есть фру...</td>\n",
       "    </tr>\n",
       "    <tr>\n",
       "      <th>237778</th>\n",
       "      <td>business</td>\n",
       "      <td>Подскажите какие риски бывают в семье среднест...</td>\n",
       "    </tr>\n",
       "  </tbody>\n",
       "</table>\n",
       "<p>237779 rows × 2 columns</p>\n",
       "</div>"
      ],
      "text/plain": [
       "        category                                               text\n",
       "0       business  Могут ли в россельхозбанке дать в залог норков...\n",
       "1            law  Может ли срочник перевестись на контракт после...\n",
       "2       business  Продажа недвижимости по ипотеки ? ( арестованы...\n",
       "3       business  В чем смысл криптовалюты, какая от неё выгода ...\n",
       "4            law                 часть 1 статья 158 похитил телефон\n",
       "...          ...                                                ...\n",
       "237774     relax                                  елку нарядили? =)\n",
       "237775       law  Имеется переработка при 75% ставки, отгулы не ...\n",
       "237776      food  Попробовала варить рис с половиной кубика для ...\n",
       "237777      food  Почему рекоменд... Почему рекомендуют есть фру...\n",
       "237778  business  Подскажите какие риски бывают в семье среднест...\n",
       "\n",
       "[237779 rows x 2 columns]"
      ]
     },
     "execution_count": 9,
     "metadata": {},
     "output_type": "execute_result"
    }
   ],
   "source": [
    "data"
   ]
  },
  {
   "cell_type": "code",
   "execution_count": 10,
   "metadata": {
    "colab": {
     "base_uri": "https://localhost:8080/",
     "height": 119
    },
    "id": "90tXLjfsW-Aj",
    "outputId": "5a41f708-1102-49c7-a38f-795783ccdd81"
   },
   "outputs": [
    {
     "data": {
      "text/plain": [
       "law         29.793211\n",
       "relax       22.016242\n",
       "business    19.309527\n",
       "food        18.367055\n",
       "love        10.513965\n",
       "Name: category, dtype: float64"
      ]
     },
     "execution_count": 10,
     "metadata": {},
     "output_type": "execute_result"
    }
   ],
   "source": [
    "data.category.value_counts() * 100 / data.shape[0]"
   ]
  },
  {
   "cell_type": "markdown",
   "metadata": {
    "id": "gfHbifWIW-Al"
   },
   "source": [
    "# Предобученные эмбеддинги\n",
    "[Источник](https://fasttext.cc/docs/en/crawl-vectors.html)  \n",
    "Вы можете взять любые word2vec подобные эмббединги. Если вы хотите использовать elmo, bert, etc сначала попробуйте с word2vec подобными эмббедингами, а потом можете перейти к более сложным моделям.  \n",
    "Ниже мы сначала скачиваем, а потом распоковываем эмбеддинги."
   ]
  },
  {
   "cell_type": "code",
   "execution_count": 11,
   "metadata": {
    "colab": {
     "base_uri": "https://localhost:8080/",
     "height": 204
    },
    "id": "PVhCzM3LW-Al",
    "outputId": "7b800ec8-bcad-4859-f110-2ac5ddb07f0e"
   },
   "outputs": [],
   "source": [
    "#wget.download('https://dl.fbaipublicfiles.com/fasttext/vectors-crawl/cc.ru.300.vec.gz')\n",
    "#!gzip -d cc.ru.300.vec.gz"
   ]
  },
  {
   "cell_type": "code",
   "execution_count": 12,
   "metadata": {},
   "outputs": [],
   "source": [
    "#!python -m gzip --decompress cc.ru.300.vec.gz"
   ]
  },
  {
   "cell_type": "code",
   "execution_count": null,
   "metadata": {},
   "outputs": [],
   "source": []
  },
  {
   "cell_type": "code",
   "execution_count": 13,
   "metadata": {
    "colab": {
     "base_uri": "https://localhost:8080/",
     "height": 85
    },
    "id": "eJcT1qPZW-An",
    "outputId": "6464b2a1-a04f-4112-a39d-4165ff7c4a79"
   },
   "outputs": [
    {
     "name": "stderr",
     "output_type": "stream",
     "text": [
      "\"ls\" ­Ґ пў«пҐвбп ў­гваҐ­­Ґ© Ё«Ё ў­Ґи­Ґ©\n",
      "Є®¬ ­¤®©, ЁбЇ®«­пҐ¬®© Їа®Ја ¬¬®© Ё«Ё Ї ЄҐв­л¬ д ©«®¬.\n"
     ]
    }
   ],
   "source": [
    "!ls -l"
   ]
  },
  {
   "cell_type": "code",
   "execution_count": 14,
   "metadata": {
    "id": "M0lwyZUFW-Ap"
   },
   "outputs": [],
   "source": [
    "from nltk.tokenize import word_tokenize, wordpunct_tokenize\n",
    "from tqdm import tqdm"
   ]
  },
  {
   "cell_type": "code",
   "execution_count": 15,
   "metadata": {
    "id": "QQpX51Y4W-Aq"
   },
   "outputs": [],
   "source": [
    "# потом можете добавить свою предобработку\n",
    "\n",
    "def process_text(text):\n",
    "    \n",
    "    words = wordpunct_tokenize(text.lower())\n",
    "    \n",
    "    return words"
   ]
  },
  {
   "cell_type": "code",
   "execution_count": 16,
   "metadata": {
    "colab": {
     "base_uri": "https://localhost:8080/",
     "height": 34
    },
    "id": "HyI2erCDW-Ar",
    "outputId": "0e1fe01d-03f8-4073-b646-53f1a0834d90"
   },
   "outputs": [
    {
     "name": "stderr",
     "output_type": "stream",
     "text": [
      "100%|███████████████████████████████████████████████████████████████████████| 237779/237779 [00:06<00:00, 37262.95it/s]\n"
     ]
    }
   ],
   "source": [
    "word2freq = {}\n",
    "lengths = []\n",
    "\n",
    "for text in tqdm(data.text):\n",
    "    \n",
    "    words = process_text(text)\n",
    "    \n",
    "    lengths.append(len(words))\n",
    "    \n",
    "    for word in words:\n",
    "        \n",
    "        if word in word2freq:\n",
    "            word2freq[word] += 1\n",
    "        else:\n",
    "            word2freq[word] = 1"
   ]
  },
  {
   "cell_type": "code",
   "execution_count": 17,
   "metadata": {
    "id": "FGzDm0ptW-At"
   },
   "outputs": [],
   "source": [
    "import seaborn as sns\n",
    "from matplotlib import pyplot as plt"
   ]
  },
  {
   "cell_type": "code",
   "execution_count": 18,
   "metadata": {
    "colab": {
     "base_uri": "https://localhost:8080/",
     "height": 639
    },
    "id": "iZBR-aYDW-Av",
    "outputId": "940b9a8b-91a9-4cdb-f79e-bcd0016e6958"
   },
   "outputs": [
    {
     "name": "stderr",
     "output_type": "stream",
     "text": [
      "C:\\Users\\veron\\Anaconda3\\envs\\pt1\\lib\\site-packages\\seaborn\\distributions.py:2619: FutureWarning: `distplot` is a deprecated function and will be removed in a future version. Please adapt your code to use either `displot` (a figure-level function with similar flexibility) or `histplot` (an axes-level function for histograms).\n",
      "  warnings.warn(msg, FutureWarning)\n"
     ]
    },
    {
     "data": {
      "text/plain": [
       "<AxesSubplot:title={'center':'Распределение длин слов в текстах'}, xlabel='Длина предложения', ylabel='Доля'>"
      ]
     },
     "execution_count": 18,
     "metadata": {},
     "output_type": "execute_result"
    },
    {
     "data": {
      "image/png": "[encoded data removed]",
      "text/plain": [
       "<Figure size 1152x720 with 1 Axes>"
      ]
     },
     "metadata": {
      "needs_background": "light"
     },
     "output_type": "display_data"
    }
   ],
   "source": [
    "plt.figure(figsize=(16, 10))\n",
    "plt.title('Распределение длин слов в текстах')\n",
    "plt.xlabel('Длина предложения')\n",
    "plt.ylabel('Доля')\n",
    "sns.distplot(lengths)"
   ]
  },
  {
   "cell_type": "code",
   "execution_count": 19,
   "metadata": {
    "colab": {
     "base_uri": "https://localhost:8080/",
     "height": 34
    },
    "id": "OBzmPqXIW-Aw",
    "outputId": "e4430b5f-2d2a-4ac9-fc1a-fa194edd7645"
   },
   "outputs": [
    {
     "data": {
      "text/plain": [
       "'99.66 % наших текстов входят в промежуток от 3 до 32 слов'"
      ]
     },
     "execution_count": 19,
     "metadata": {},
     "output_type": "execute_result"
    }
   ],
   "source": [
    "upper_threshold = 32\n",
    "lower_threshold = 3\n",
    "\n",
    "correct_percent = len([sent_len for sent_len in lengths \n",
    "                       if sent_len <= upper_threshold and sent_len >= lower_threshold]) * 100 / len(lengths)\n",
    "\n",
    "'{:.2f} % наших текстов входят в промежуток от {} до {} слов'.format(correct_percent, lower_threshold, upper_threshold)"
   ]
  },
  {
   "cell_type": "code",
   "execution_count": 20,
   "metadata": {
    "colab": {
     "base_uri": "https://localhost:8080/",
     "height": 34
    },
    "id": "GbSer_0bW-Ay",
    "outputId": "d71619df-f68b-42a8-d851-3c909ceb6370"
   },
   "outputs": [
    {
     "data": {
      "text/plain": [
       "152179"
      ]
     },
     "execution_count": 20,
     "metadata": {},
     "output_type": "execute_result"
    }
   ],
   "source": [
    "len(word2freq)"
   ]
  },
  {
   "cell_type": "code",
   "execution_count": 21,
   "metadata": {
    "colab": {
     "base_uri": "https://localhost:8080/",
     "height": 34
    },
    "id": "szg6XD3EW-Az",
    "outputId": "f41121aa-cbb5-426b-b7bb-8f21b1822bd0"
   },
   "outputs": [
    {
     "data": {
      "text/plain": [
       "'114332 слов, которые встречались 3 и менее раз'"
      ]
     },
     "execution_count": 21,
     "metadata": {},
     "output_type": "execute_result"
    }
   ],
   "source": [
    "'{} слов, которые встречались 3 и менее раз'.format(len([word for word in word2freq if word2freq[word] <= 3]))"
   ]
  },
  {
   "cell_type": "markdown",
   "metadata": {
    "id": "bZbOg0FqW-A1"
   },
   "source": [
    "# Читаем файл с эмбеддингами\n",
    "### Этот файл с 300 числами для 2 000 000 слов и он может не влезть в память\n",
    "Поэтому прочитаем только те слова, которые мы знаем"
   ]
  },
  {
   "cell_type": "code",
   "execution_count": 22,
   "metadata": {
    "id": "T1Yx_qr-W-A2"
   },
   "outputs": [],
   "source": [
    "import numpy as np"
   ]
  },
  {
   "cell_type": "code",
   "execution_count": 23,
   "metadata": {
    "colab": {
     "base_uri": "https://localhost:8080/",
     "height": 34
    },
    "id": "BLEgfnaWW-A4",
    "outputId": "05846f70-6229-4df2-bcd5-68cc08e0d010"
   },
   "outputs": [
    {
     "name": "stderr",
     "output_type": "stream",
     "text": [
      "Read word2vec: 100%|███████████████████████████████████████████████████████| 2000000/2000000 [03:26<00:00, 9687.72it/s]\n"
     ]
    }
   ],
   "source": [
    "word2index = {'PAD': 0}\n",
    "vectors = []\n",
    "    \n",
    "word2vec_file = open('cc.ru.300.vec', encoding='utf8')\n",
    "    \n",
    "n_words, embedding_dim = word2vec_file.readline().split()\n",
    "n_words, embedding_dim = int(n_words), int(embedding_dim)\n",
    "\n",
    "# Zero vector for PAD\n",
    "vectors.append(np.zeros((1, embedding_dim)))\n",
    "\n",
    "progress_bar = tqdm(desc='Read word2vec', total=n_words)\n",
    "\n",
    "while True:\n",
    "\n",
    "    line = word2vec_file.readline().strip()\n",
    "\n",
    "    if not line:\n",
    "        break\n",
    "        \n",
    "    current_parts = line.split()\n",
    "\n",
    "    current_word = ' '.join(current_parts[:-embedding_dim])\n",
    "\n",
    "    if current_word in word2freq:\n",
    "\n",
    "        word2index[current_word] = len(word2index)\n",
    "\n",
    "        current_vectors = current_parts[-embedding_dim:]\n",
    "        current_vectors = np.array(list(map(float, current_vectors)))\n",
    "        current_vectors = np.expand_dims(current_vectors, 0)\n",
    "\n",
    "        vectors.append(current_vectors)\n",
    "\n",
    "    progress_bar.update(1)\n",
    "\n",
    "progress_bar.close()\n",
    "\n",
    "word2vec_file.close()\n",
    "\n",
    "vectors = np.concatenate(vectors)"
   ]
  },
  {
   "cell_type": "code",
   "execution_count": 24,
   "metadata": {
    "colab": {
     "base_uri": "https://localhost:8080/",
     "height": 34
    },
    "id": "AYJMzgpnW-A7",
    "outputId": "4fec5db6-fca6-42a2-93da-be988702d797"
   },
   "outputs": [
    {
     "data": {
      "text/plain": [
       "117619"
      ]
     },
     "execution_count": 24,
     "metadata": {},
     "output_type": "execute_result"
    }
   ],
   "source": [
    "len(word2index)"
   ]
  },
  {
   "cell_type": "code",
   "execution_count": 25,
   "metadata": {
    "colab": {
     "base_uri": "https://localhost:8080/",
     "height": 187
    },
    "id": "KE06fafiW-A8",
    "outputId": "d6c87428-4474-4275-f300-d246364d7865"
   },
   "outputs": [
    {
     "name": "stdout",
     "output_type": "stream",
     "text": [
      "Мы не знаем 2.50 % слов в датасете\n",
      "Количество неизвестных слов 34561 из 152179, то есть 22.71 % уникальных слов в словаре\n",
      "В среднем каждое встречается 1.98 раз\n",
      "\n",
      "Топ 5 невошедших слов:\n",
      "??? с количеством вхождениий - 3641\n",
      "?? с количеством вхождениий - 2448\n",
      "!!! с количеством вхождениий - 2214\n",
      "?) с количеством вхождениий - 2069\n",
      "\"? с количеством вхождениий - 1429\n"
     ]
    }
   ],
   "source": [
    "unk_words = [word for word in word2freq if word not in word2index]\n",
    "unk_counts = [word2freq[word] for word in unk_words]\n",
    "n_unk = sum(unk_counts) * 100 / sum(list(word2freq.values()))\n",
    "\n",
    "sub_sample_unk_words = {word: word2freq[word] for word in unk_words}\n",
    "sorted_unk_words = list(sorted(sub_sample_unk_words, key=lambda x: sub_sample_unk_words[x], reverse=True))\n",
    "\n",
    "print('Мы не знаем {:.2f} % слов в датасете'.format(n_unk))\n",
    "print('Количество неизвестных слов {} из {}, то есть {:.2f} % уникальных слов в словаре'.format(\n",
    "    len(unk_words), len(word2freq), len(unk_words) * 100 / len(word2freq)))\n",
    "print('В среднем каждое встречается {:.2f} раз'.format(np.mean(unk_counts)))\n",
    "print()\n",
    "print('Топ 5 невошедших слов:')\n",
    "\n",
    "for i in range(5):\n",
    "    print(sorted_unk_words[i], 'с количеством вхождениий -', word2freq[sorted_unk_words[i]])"
   ]
  },
  {
   "cell_type": "markdown",
   "metadata": {
    "id": "GFPNApUjW-A9"
   },
   "source": [
    "# Потеря 2.5 % слов в датасете\n",
    "Эта ситуация не то, чтобы сильно плохая, в учебных целях нормально, к тому же в среднем они редко встречаются. Вы можете поиграть с предобработкой."
   ]
  },
  {
   "cell_type": "code",
   "execution_count": 26,
   "metadata": {
    "id": "_fo1fB6JW-A-"
   },
   "outputs": [],
   "source": [
    "import torch"
   ]
  },
  {
   "cell_type": "markdown",
   "metadata": {
    "id": "pEKAjCg3W-BA"
   },
   "source": [
    "- 128 - размер батча\n",
    "- 64 - количество слов\n",
    "- 1024 - эмбеддинг слова"
   ]
  },
  {
   "cell_type": "code",
   "execution_count": 27,
   "metadata": {
    "id": "D19pDyQBW-BA"
   },
   "outputs": [],
   "source": [
    "x = torch.rand(128, 64, 1024)"
   ]
  },
  {
   "cell_type": "code",
   "execution_count": 28,
   "metadata": {
    "id": "Yxsxr7edW-BB"
   },
   "outputs": [],
   "source": [
    "lstm = torch.nn.LSTM(1024, 512, batch_first=True)"
   ]
  },
  {
   "cell_type": "code",
   "execution_count": 29,
   "metadata": {
    "colab": {
     "base_uri": "https://localhost:8080/",
     "height": 34
    },
    "id": "TZy0lKr2W-BC",
    "outputId": "4556ff61-4bd7-4ba5-da18-a26410a64d25"
   },
   "outputs": [
    {
     "name": "stdout",
     "output_type": "stream",
     "text": [
      "1.94 s ± 447 ms per loop (mean ± std. dev. of 7 runs, 1 loop each)\n"
     ]
    }
   ],
   "source": [
    "%%timeit\n",
    "\n",
    "pred = lstm(x)"
   ]
  },
  {
   "cell_type": "markdown",
   "metadata": {
    "id": "s611e34SW-BE"
   },
   "source": [
    "# А что GPU?"
   ]
  },
  {
   "cell_type": "code",
   "execution_count": 30,
   "metadata": {
    "colab": {
     "base_uri": "https://localhost:8080/",
     "height": 51
    },
    "id": "xjFlWdgtW-BE",
    "outputId": "93205b98-fd2b-4bea-a93f-5544f82c5a2c"
   },
   "outputs": [
    {
     "name": "stdout",
     "output_type": "stream",
     "text": [
      "Доступна ли видеокарта: True\n",
      "Если недоступна, поменяйте runtime, если в колабе\n"
     ]
    }
   ],
   "source": [
    "print('Доступна ли видеокарта:', torch.cuda.is_available())\n",
    "print('Если недоступна, поменяйте runtime, если в колабе')"
   ]
  },
  {
   "cell_type": "code",
   "execution_count": 31,
   "metadata": {
    "id": "jaMMD5CDW-BG"
   },
   "outputs": [],
   "source": [
    "# универсальных способ задать device\n",
    "device = torch.device('cuda') if torch.cuda.is_available() else torch.device('cpu')\n",
    "# если доступна gpu, то давайте ее использовать, но в этом задании должны использовать"
   ]
  },
  {
   "cell_type": "code",
   "execution_count": 32,
   "metadata": {
    "id": "GeQCiSYdW-BH"
   },
   "outputs": [],
   "source": [
    "# перенесли x на gpu\n",
    "x_gpu = x.to(device)"
   ]
  },
  {
   "cell_type": "code",
   "execution_count": 33,
   "metadata": {
    "id": "S_qUdMcbW-BJ"
   },
   "outputs": [],
   "source": [
    "# зададим lstm на gpu\n",
    "lstm_gpu = torch.nn.LSTM(1024, 512, batch_first=True)\n",
    "lstm_gpu = lstm_gpu.to(device)"
   ]
  },
  {
   "cell_type": "code",
   "execution_count": 34,
   "metadata": {
    "colab": {
     "base_uri": "https://localhost:8080/",
     "height": 34
    },
    "id": "hSUQmRgtW-BK",
    "outputId": "44da2f5b-6421-44d9-829b-499212280ee1"
   },
   "outputs": [
    {
     "name": "stdout",
     "output_type": "stream",
     "text": [
      "3.83 ms ± 318 µs per loop (mean ± std. dev. of 7 runs, 1 loop each)\n"
     ]
    }
   ],
   "source": [
    "%%timeit\n",
    "\n",
    "pred = lstm_gpu(x_gpu)"
   ]
  },
  {
   "cell_type": "markdown",
   "metadata": {
    "id": "gPvqNWkQW-BM"
   },
   "source": [
    "# У меня на 1070 TI скорость уменьшилась с 381мс до 41мс, то есть в 9.29 раз"
   ]
  },
  {
   "cell_type": "code",
   "execution_count": 35,
   "metadata": {
    "id": "FaPKGO5aW-BN"
   },
   "outputs": [],
   "source": [
    "# если у нас модель на гпу, а то, что мы туда подаем нет, то работать не будет\n",
    "# справедлива и обратная ситуация\n",
    "\n",
    "# выскочит ошибка\n",
    "# посмотрите на нее, возможно, вы еще встретитесь\n",
    "# pred = lstm_gpu(x)"
   ]
  },
  {
   "cell_type": "markdown",
   "metadata": {
    "id": "9NX5HHDOW-BO"
   },
   "source": [
    "# Важные и не очень интуитивные моменты про LSTM и CNN в торче"
   ]
  },
  {
   "cell_type": "markdown",
   "metadata": {
    "id": "zKr22rklW-BP"
   },
   "source": [
    "По умолчанию LSTM принимает данные с такой размерностью:\n",
    "```python\n",
    "(seq_len, batch, input_size)\n",
    "```\n",
    "Сделано это с целью оптимизации на более низком уровне.  \n",
    "Мы оперируем такими объектами:\n",
    "```python\n",
    "(batch, seq_len, input_size)\n",
    "```\n",
    "Чтобы LSTM у нас заработала правильно, мы можем либо передать параметр ```batch_first=True``` во время инициализации слоя,\n",
    "либо транспонировать (поменять) первую и вторую размерность у нашего x перед подачей в слой.  \n",
    "[Подробнее про LSTM](https://pytorch.org/docs/stable/nn.html#lstm)"
   ]
  },
  {
   "cell_type": "markdown",
   "metadata": {
    "id": "Bny8SvCgW-BQ"
   },
   "source": [
    "- 128 - размер батча\n",
    "- 64 - количество слов\n",
    "- 1024 - эмбеддинг слова"
   ]
  },
  {
   "cell_type": "code",
   "execution_count": 36,
   "metadata": {
    "id": "vc-bLok2W-BQ"
   },
   "outputs": [],
   "source": [
    "# первый способ\n",
    "lstm = torch.nn.LSTM(1024, 512, batch_first=True)\n",
    "\n",
    "pred, mem = lstm(x)"
   ]
  },
  {
   "cell_type": "code",
   "execution_count": 37,
   "metadata": {
    "colab": {
     "base_uri": "https://localhost:8080/",
     "height": 34
    },
    "id": "OHpit-1tW-BR",
    "outputId": "e33f0f23-f029-4e7b-b1ff-d3b12276db82"
   },
   "outputs": [
    {
     "data": {
      "text/plain": [
       "torch.Size([128, 64, 512])"
      ]
     },
     "execution_count": 37,
     "metadata": {},
     "output_type": "execute_result"
    }
   ],
   "source": [
    "pred.shape"
   ]
  },
  {
   "cell_type": "code",
   "execution_count": 38,
   "metadata": {
    "id": "ru_WzGSJW-BS"
   },
   "outputs": [],
   "source": [
    "lstm = torch.nn.LSTM(1024, 512)\n",
    "\n",
    "# меняем размерность batch и seq_len местами\n",
    "x_transposed = x.transpose(0, 1)\n",
    "pred_transposed, mem = lstm(x_transposed)"
   ]
  },
  {
   "cell_type": "code",
   "execution_count": 39,
   "metadata": {
    "colab": {
     "base_uri": "https://localhost:8080/",
     "height": 34
    },
    "id": "NHdBavTWW-BT",
    "outputId": "ba454a8b-fec7-402f-a7a1-c4f9f9556e6d"
   },
   "outputs": [
    {
     "data": {
      "text/plain": [
       "torch.Size([64, 128, 512])"
      ]
     },
     "execution_count": 39,
     "metadata": {},
     "output_type": "execute_result"
    }
   ],
   "source": [
    "# у нас все еще осталась размерность (seq_len, batch, input_size)\n",
    "pred_transposed.shape"
   ]
  },
  {
   "cell_type": "code",
   "execution_count": 40,
   "metadata": {
    "colab": {
     "base_uri": "https://localhost:8080/",
     "height": 34
    },
    "id": "Rcxv55j7W-BV",
    "outputId": "f560450f-75bf-4397-d9f0-f88e3d06705c"
   },
   "outputs": [
    {
     "data": {
      "text/plain": [
       "torch.Size([128, 64, 512])"
      ]
     },
     "execution_count": 40,
     "metadata": {},
     "output_type": "execute_result"
    }
   ],
   "source": [
    "# просто транспонируем еще раз\n",
    "pred = pred_transposed.transpose(0, 1)\n",
    "pred.shape"
   ]
  },
  {
   "cell_type": "markdown",
   "metadata": {
    "id": "PmJt6cqkW-BW"
   },
   "source": [
    "## Conv1d & MaxPool1d\n",
    "Примерно такая же ситуация происходит со сверточными слоями и пулингами.  \n",
    "1d реализация как раз для текстов, в ней матрица-фильтр ходит только по одной размерности.  \n",
    "[Подробнее про CNN](https://pytorch.org/docs/stable/nn.html#conv1d)  \n",
    "[Подробнее про пулинг](https://pytorch.org/docs/stable/nn.html#maxpool1d)  \n",
    "Ожидается такая размерность:\n",
    "```python\n",
    "(batch, input_size, seq_len)\n",
    "```\n",
    "Мы все еще хоти подавать такую размерность:\n",
    "```python\n",
    "(batch, seq_len, input_size)\n",
    "```\n",
    "В случае со свертками и пулингами у нас есть вариант только транспонировать x перед подачей и транспонировать полученный результат. Обратите внимание, что транспонируем мы первую и вторую размерность (индексация с нуля)."
   ]
  },
  {
   "cell_type": "code",
   "execution_count": 41,
   "metadata": {
    "colab": {
     "base_uri": "https://localhost:8080/",
     "height": 34
    },
    "id": "TyM8Xl24W-BX",
    "outputId": "2a5512ca-bc14-43f1-804b-e71df3a7ad7e"
   },
   "outputs": [
    {
     "data": {
      "text/plain": [
       "torch.Size([128, 64, 1024])"
      ]
     },
     "execution_count": 41,
     "metadata": {},
     "output_type": "execute_result"
    }
   ],
   "source": [
    "x.shape"
   ]
  },
  {
   "cell_type": "markdown",
   "metadata": {
    "id": "grPNMjEZW-BY"
   },
   "source": [
    "- 128 - размер батча\n",
    "- 64 - количество слов\n",
    "- 1024 - эмбеддинг слова"
   ]
  },
  {
   "cell_type": "code",
   "execution_count": 42,
   "metadata": {
    "id": "btJ-ApiOW-BY"
   },
   "outputs": [],
   "source": [
    "# in_channels - размер входных эмбеддингов\n",
    "# out_channels - количество/какой размер эмбеддингов мы хотим получить\n",
    "# kernel_size - размер окна/н-граммы\n",
    "cnn = torch.nn.Conv1d(in_channels=1024, out_channels=512, kernel_size=3)"
   ]
  },
  {
   "cell_type": "code",
   "execution_count": 43,
   "metadata": {
    "id": "QIYff7YyW-Bb"
   },
   "outputs": [],
   "source": [
    "# выпадет ошибка, посмотрите какая\n",
    "# pred = cnn(x)"
   ]
  },
  {
   "cell_type": "code",
   "execution_count": 44,
   "metadata": {
    "colab": {
     "base_uri": "https://localhost:8080/",
     "height": 34
    },
    "id": "7tVn6YKLW-Bd",
    "outputId": "7a1a5f4c-b44f-4ed6-f90c-a9d00f78dfe6"
   },
   "outputs": [
    {
     "data": {
      "text/plain": [
       "torch.Size([128, 1024, 64])"
      ]
     },
     "execution_count": 44,
     "metadata": {},
     "output_type": "execute_result"
    }
   ],
   "source": [
    "x_transposed = x.transpose(1, 2)\n",
    "x_transposed.shape\n",
    "# перевели в (batch, input_size, seq_len)"
   ]
  },
  {
   "cell_type": "code",
   "execution_count": 45,
   "metadata": {
    "colab": {
     "base_uri": "https://localhost:8080/",
     "height": 34
    },
    "id": "2N4w6-iWW-Be",
    "outputId": "bf29af13-5bd4-4882-f60f-b01575b100e8"
   },
   "outputs": [
    {
     "data": {
      "text/plain": [
       "torch.Size([128, 512, 62])"
      ]
     },
     "execution_count": 45,
     "metadata": {},
     "output_type": "execute_result"
    }
   ],
   "source": [
    "pred_transposed = cnn(x_transposed)\n",
    "pred_transposed.shape\n",
    "# осталась разрмерность (batch, output_size, seq_len)"
   ]
  },
  {
   "cell_type": "code",
   "execution_count": 46,
   "metadata": {
    "colab": {
     "base_uri": "https://localhost:8080/",
     "height": 34
    },
    "id": "7-C3_phaW-Bf",
    "outputId": "2ce7a78f-5492-404a-aeb5-2911386734d4"
   },
   "outputs": [
    {
     "data": {
      "text/plain": [
       "torch.Size([128, 62, 512])"
      ]
     },
     "execution_count": 46,
     "metadata": {},
     "output_type": "execute_result"
    }
   ],
   "source": [
    "# переведем обратно в (batch, seq_len, input_size)\n",
    "pred = pred_transposed.transpose(1, 2)\n",
    "pred.shape"
   ]
  },
  {
   "cell_type": "markdown",
   "metadata": {
    "id": "stBQ3yhqW-Bi"
   },
   "source": [
    "# Подготовим данные в DataLoader"
   ]
  },
  {
   "cell_type": "code",
   "execution_count": 47,
   "metadata": {
    "id": "vPX_m5M4W-Bi"
   },
   "outputs": [],
   "source": [
    "from torch.utils.data import Dataset, DataLoader"
   ]
  },
  {
   "cell_type": "code",
   "execution_count": 48,
   "metadata": {
    "colab": {
     "base_uri": "https://localhost:8080/",
     "height": 34
    },
    "id": "hV76BdN0W-Bj",
    "outputId": "befb4dd0-0df1-4ada-fe1d-dae478226f35"
   },
   "outputs": [
    {
     "data": {
      "text/plain": [
       "False"
      ]
     },
     "execution_count": 48,
     "metadata": {},
     "output_type": "execute_result"
    }
   ],
   "source": [
    "'UNK' in word2index"
   ]
  },
  {
   "cell_type": "code",
   "execution_count": 49,
   "metadata": {
    "colab": {
     "base_uri": "https://localhost:8080/",
     "height": 204
    },
    "id": "INB_dPAnW-Bk",
    "outputId": "8bb90efa-4c9c-4908-c872-393906ed8619"
   },
   "outputs": [
    {
     "data": {
      "text/html": [
       "<div>\n",
       "<style scoped>\n",
       "    .dataframe tbody tr th:only-of-type {\n",
       "        vertical-align: middle;\n",
       "    }\n",
       "\n",
       "    .dataframe tbody tr th {\n",
       "        vertical-align: top;\n",
       "    }\n",
       "\n",
       "    .dataframe thead th {\n",
       "        text-align: right;\n",
       "    }\n",
       "</style>\n",
       "<table border=\"1\" class=\"dataframe\">\n",
       "  <thead>\n",
       "    <tr style=\"text-align: right;\">\n",
       "      <th></th>\n",
       "      <th>category</th>\n",
       "      <th>text</th>\n",
       "    </tr>\n",
       "  </thead>\n",
       "  <tbody>\n",
       "    <tr>\n",
       "      <th>0</th>\n",
       "      <td>business</td>\n",
       "      <td>Могут ли в россельхозбанке дать в залог норков...</td>\n",
       "    </tr>\n",
       "    <tr>\n",
       "      <th>1</th>\n",
       "      <td>law</td>\n",
       "      <td>Может ли срочник перевестись на контракт после...</td>\n",
       "    </tr>\n",
       "    <tr>\n",
       "      <th>2</th>\n",
       "      <td>business</td>\n",
       "      <td>Продажа недвижимости по ипотеки ? ( арестованы...</td>\n",
       "    </tr>\n",
       "    <tr>\n",
       "      <th>3</th>\n",
       "      <td>business</td>\n",
       "      <td>В чем смысл криптовалюты, какая от неё выгода ...</td>\n",
       "    </tr>\n",
       "    <tr>\n",
       "      <th>4</th>\n",
       "      <td>law</td>\n",
       "      <td>часть 1 статья 158 похитил телефон</td>\n",
       "    </tr>\n",
       "  </tbody>\n",
       "</table>\n",
       "</div>"
      ],
      "text/plain": [
       "   category                                               text\n",
       "0  business  Могут ли в россельхозбанке дать в залог норков...\n",
       "1       law  Может ли срочник перевестись на контракт после...\n",
       "2  business  Продажа недвижимости по ипотеки ? ( арестованы...\n",
       "3  business  В чем смысл криптовалюты, какая от неё выгода ...\n",
       "4       law                 часть 1 статья 158 похитил телефон"
      ]
     },
     "execution_count": 49,
     "metadata": {},
     "output_type": "execute_result"
    }
   ],
   "source": [
    "data.head()"
   ]
  },
  {
   "cell_type": "markdown",
   "metadata": {
    "id": "1qv1mKAeW-Bl"
   },
   "source": [
    "# Замапим категории в индексы"
   ]
  },
  {
   "cell_type": "code",
   "execution_count": 50,
   "metadata": {
    "id": "iHeFzZe1W-Bl"
   },
   "outputs": [],
   "source": [
    "cat_mapper = {cat: n for n, cat in enumerate(data.category.unique())}"
   ]
  },
  {
   "cell_type": "code",
   "execution_count": 51,
   "metadata": {
    "colab": {
     "base_uri": "https://localhost:8080/",
     "height": 34
    },
    "id": "X3x9QhXYW-Bn",
    "outputId": "0a4dff58-d739-4847-f818-c3e0d321e78a"
   },
   "outputs": [
    {
     "data": {
      "text/plain": [
       "{'business': 0, 'law': 1, 'love': 2, 'relax': 3, 'food': 4}"
      ]
     },
     "execution_count": 51,
     "metadata": {},
     "output_type": "execute_result"
    }
   ],
   "source": [
    "cat_mapper"
   ]
  },
  {
   "cell_type": "code",
   "execution_count": 52,
   "metadata": {
    "id": "ef--8SWbW-Bo"
   },
   "outputs": [],
   "source": [
    "data.category = data.category.map(cat_mapper)"
   ]
  },
  {
   "cell_type": "markdown",
   "metadata": {
    "id": "vc48ALg_W-Bp"
   },
   "source": [
    "# Читалка данных"
   ]
  },
  {
   "cell_type": "markdown",
   "metadata": {
    "id": "WFIQEv6nvE4c"
   },
   "source": [
    "## Что происходит ниже\n",
    "1. Мы задаем x_data, y_data (таргеты), word2index (маппер из слова в индекс слова), sequence_length (максимальная длина последовательности, если больше, ограничить ею), pad_token (токен паддинга и задаем его индекс pad_index).\n",
    "1. Загружаем данные:\n",
    "    1. Проходимся по датасету\n",
    "    1. Предобрабатываем каждый текст в датасете\n",
    "    1. Индексируем его\n",
    "    1. Паддим до нужной длины\n",
    "1. Когда нам нужно достать пример из датасета мы берем индексированный ```x``` и соответствующий этому индексу ```y```, наш ```x``` также паддим (или ограничиваем длину) и переводим в ```torch.Tensor(x).long()```. Для ```y``` этого делать не потребуется, в dataloader'е таргеты преобразуются в тензор сами.\n"
   ]
  },
  {
   "cell_type": "code",
   "execution_count": 53,
   "metadata": {
    "id": "ZkX8SC_sW-Bp"
   },
   "outputs": [],
   "source": [
    "class WordData(Dataset):\n",
    "    \n",
    "    def __init__(self, x_data, y_data, word2index, sequence_length=32, pad_token='PAD', verbose=True):\n",
    "        \n",
    "        super().__init__()\n",
    "        \n",
    "        self.x_data = []\n",
    "        self.y_data = y_data\n",
    "        \n",
    "        self.word2index = word2index\n",
    "        self.sequence_length = sequence_length\n",
    "        \n",
    "        self.pad_token = pad_token\n",
    "        self.pad_index = self.word2index[self.pad_token]\n",
    "        \n",
    "        self.load(x_data, verbose=verbose)\n",
    "        \n",
    "    @staticmethod\n",
    "    def process_text(text):\n",
    "        \n",
    "        # Место для вашей предобработки\n",
    "        \n",
    "        words = wordpunct_tokenize(text.lower())\n",
    "        #words = re.findall('[a-яА-ЯеЁ]+', text.lower())\n",
    "        return words\n",
    "        \n",
    "    def load(self, data, verbose=True):\n",
    "        \n",
    "        data_iterator = tqdm(data, desc='Loading data', disable=not verbose)\n",
    "        \n",
    "        for text in data_iterator:\n",
    "            \n",
    "            words = self.process_text(text)\n",
    "            \n",
    "            indexed_words = self.indexing(words)\n",
    "            \n",
    "            self.x_data.append(indexed_words)\n",
    "    \n",
    "    def indexing(self, tokenized_text):\n",
    "\n",
    "        # здесь мы не используем токен UNK, потому что мы его специально не учили\n",
    "        # становится непонятно какой же эмбеддинг присвоить неизвестному слову,\n",
    "        # поэтому просто выбрасываем наши неизветсные слова\n",
    "        \n",
    "        return [self.word2index[word] for word in tokenized_text if word in self.word2index]\n",
    "    \n",
    "    def padding(self, sequence):\n",
    "        \n",
    "        # Ограничить длину self.sequence_length\n",
    "        # если длина меньше максимально - западить\n",
    "        if len(sequence)< self.sequence_length:\n",
    "          add_pad = self.sequence_length - len(sequence)\n",
    "          return sequence+[self.pad_index]*add_pad\n",
    "        else:\n",
    "          return sequence[:self.sequence_length]\n",
    "    \n",
    "    def __len__(self):\n",
    "        \n",
    "        return len(self.x_data)\n",
    "    \n",
    "    def __getitem__(self, idx):\n",
    "        \n",
    "        x = self.x_data[idx]\n",
    "        x = self.padding(x)\n",
    "        x = torch.Tensor(x).long()\n",
    "        \n",
    "        y = self.y_data[idx]\n",
    "        \n",
    "        return x, y"
   ]
  },
  {
   "cell_type": "code",
   "execution_count": 54,
   "metadata": {
    "id": "R3WW8V9lyLm0"
   },
   "outputs": [],
   "source": [
    "from sklearn.model_selection import train_test_split\n",
    "from sklearn.metrics import f1_score"
   ]
  },
  {
   "cell_type": "code",
   "execution_count": 55,
   "metadata": {
    "colab": {
     "base_uri": "https://localhost:8080/",
     "height": 51
    },
    "id": "Lnc2nD8gW-Br",
    "outputId": "d72654f9-7a85-49a6-e0c2-429b5db04c4e"
   },
   "outputs": [
    {
     "name": "stderr",
     "output_type": "stream",
     "text": [
      "Loading data: 100%|█████████████████████████████████████████████████████████| 214001/214001 [00:06<00:00, 35222.37it/s]\n",
      "Loading data: 100%|███████████████████████████████████████████████████████████| 23778/23778 [00:00<00:00, 67962.44it/s]\n"
     ]
    }
   ],
   "source": [
    "x_train, x_validation, y_train, y_validation = train_test_split(data.text, data.category, test_size=0.1)\n",
    "\n",
    "train_dataset = WordData(list(x_train), list(y_train), word2index)\n",
    "train_loader = DataLoader(train_dataset, batch_size=64)\n",
    "\n",
    "validation_dataset = WordData(list(x_validation), list(y_validation), word2index)\n",
    "validation_loader = DataLoader(validation_dataset, batch_size=64)"
   ]
  },
  {
   "cell_type": "code",
   "execution_count": 56,
   "metadata": {
    "id": "dGeftxdgW-Br"
   },
   "outputs": [],
   "source": [
    "for x, y in train_loader:\n",
    "    break"
   ]
  },
  {
   "cell_type": "code",
   "execution_count": 57,
   "metadata": {
    "colab": {
     "base_uri": "https://localhost:8080/",
     "height": 136
    },
    "id": "nNkGQffBW-Bs",
    "outputId": "77e1ecb5-4bdc-414d-fb89-b7650ed25fba"
   },
   "outputs": [
    {
     "data": {
      "text/plain": [
       "tensor([[  115,    56,   160,  ...,     0,     0,     0],\n",
       "        [   56,   137,    81,  ...,     0,     0,     0],\n",
       "        [  659,   778,   196,  ...,     0,     0,     0],\n",
       "        ...,\n",
       "        [  659,   209, 22187,  ...,     0,     0,     0],\n",
       "        [ 2820,    23, 12141,  ...,     0,     0,     0],\n",
       "        [  593,  4118,   245,  ...,     0,     0,     0]])"
      ]
     },
     "execution_count": 57,
     "metadata": {},
     "output_type": "execute_result"
    }
   ],
   "source": [
    "x"
   ]
  },
  {
   "cell_type": "code",
   "execution_count": 58,
   "metadata": {
    "colab": {
     "base_uri": "https://localhost:8080/",
     "height": 68
    },
    "id": "fxUk4nGcW-Bt",
    "outputId": "bae977fd-25ef-4fd7-c451-402e8ea287a4"
   },
   "outputs": [
    {
     "data": {
      "text/plain": [
       "tensor([3, 0, 4, 1, 1, 1, 1, 4, 0, 3, 1, 1, 3, 2, 0, 2, 0, 2, 4, 4, 3, 1, 0, 3,\n",
       "        0, 3, 1, 3, 2, 1, 3, 0, 1, 2, 0, 3, 3, 0, 1, 2, 3, 1, 3, 2, 2, 1, 3, 1,\n",
       "        1, 0, 3, 4, 0, 3, 3, 0, 2, 2, 2, 1, 4, 4, 2, 4])"
      ]
     },
     "execution_count": 58,
     "metadata": {},
     "output_type": "execute_result"
    }
   ],
   "source": [
    "y"
   ]
  },
  {
   "cell_type": "markdown",
   "metadata": {
    "id": "Zy0dkkTIW-Bw"
   },
   "source": [
    "# Обучить нейронку"
   ]
  },
  {
   "cell_type": "code",
   "execution_count": 64,
   "metadata": {
    "id": "3wwkxZm1vE43"
   },
   "outputs": [],
   "source": [
    "from math import sqrt\n",
    "\n",
    "class model_with_att(torch.nn.Module):\n",
    "    def __init__(self, matrix_w, n, hidden_size=256): #n - количетсво категорий\n",
    "        \n",
    "        super().__init__()\n",
    "\n",
    "        self.n = n\n",
    "        self.embedding_dim = matrix_w.shape[1]\n",
    "        self.hidden_size = hidden_size\n",
    "        #. . . \n",
    "\n",
    "        self.emb_layer = torch.nn.Embedding.from_pretrained(torch.Tensor(matrix_w))\n",
    "\n",
    "        self.LSTM = torch.nn.LSTM(input_size=self.embedding_dim, hidden_size=self.hidden_size,\n",
    "                            num_layers=2, batch_first=True, dropout=0.3, bidirectional=True)\n",
    "        # задайте лстм, можно 2 уровня, лучше бидирекциональный, в доке торча есть инофрмация \n",
    "        #как это сделать в одну строчку\n",
    "        \n",
    "        self.q_proj = torch.nn.Linear(in_features=2*hidden_size, out_features=hidden_size, bias=True)\n",
    "        # три линейных преобразования, размерность совпадает с выходом из лстм (если БИлстм то надо умножить ее на 2)\n",
    "        self.k_proj = torch.nn.Linear(in_features=2*hidden_size, out_features=hidden_size, bias=True)\n",
    "        self.v_proj = torch.nn.Linear(in_features=2*hidden_size, out_features=hidden_size, bias=True)\n",
    "\n",
    "        self.att_soft = torch.nn.Softmax(dim = 2)\n",
    "        \n",
    "        self.cnn_3gr = torch.nn.Conv1d(self.hidden_size, self.hidden_size//2, kernel_size=(3,), stride=(1,))\n",
    "        # три конволюционных фильтра с разными ядрами (3,4,5) чтобы были всякие нграммы ловить\n",
    "        self.cnn_4gr = torch.nn.Conv1d(self.hidden_size, self.hidden_size//2, kernel_size=(4,), stride=(1,))\n",
    "        self.cnn_5gr = torch.nn.Conv1d(self.hidden_size, self.hidden_size//2, kernel_size=(5,), stride=(1,))\n",
    "\n",
    "        self.linear_1 = torch.nn.Linear(in_features=384, out_features=self.hidden_size, bias=True)\n",
    "        # сверху накидываем два полносвязных слоя для классификации\n",
    "        self.relu = torch.nn.ReLU()\n",
    "        self.linear_2 = torch.nn.Linear(in_features=self.hidden_size, out_features=self.n, bias=True)\n",
    "\n",
    "        \n",
    "    def forward(self, x):\n",
    "        x_emb = self.emb_layer(x)\n",
    "        #примените эмбеддинги\n",
    "        # транспонируйте тензор для лстм как было описано выше\n",
    "        x, _ = self.LSTM(x_emb) # применим лстм, не забываем что на выходе у него много всяких последовательностей, \n",
    "        #нам нужна только эта\n",
    "        # транспонируйте обратно\n",
    "\n",
    "        x_q = self.q_proj(x) \n",
    "        #применим линейные преобразования для селф-эттеншена\n",
    "        x_k = self.k_proj(x)\n",
    "        x_v = self.v_proj(x)\n",
    "\n",
    "        att_scores = torch.bmm(x_q, x_k.transpose(1, 2)) / (self.embedding_dim)**0.5\n",
    "        # посмотрите в презентацию и перемножьте нужные тензора изспольуя функцию bmm из торча, перед этим одну из матриц \n",
    "        #обзательно транспонируйте\n",
    "        # результат обязательно поделите на корень из последней размерности (то есть на рземер эмбеддинга из предыдущего слоя)\n",
    "        att_dist = self.att_soft(att_scores) # накидываем софтмакс\n",
    "        attention_vectors = torch.bmm(att_dist, x_v)\n",
    "        # тут тоже что то с чем то нужно перемножить :)\n",
    "\n",
    "        x_att = attention_vectors.transpose(2,1) #транспонируем для конфолючионнах фильтров\n",
    "\n",
    "        x_cnn3 = self.cnn_3gr(x_att)\n",
    "        x_cnn4 = self.cnn_4gr(x_att)\n",
    "        x_cnn5 = self.cnn_5gr(x_att)\n",
    "\n",
    "        frst, _ =  x_cnn3.max(dim= -1,) # cделаем макс пуллинг\n",
    "        sc, _ = x_cnn4.max(dim= -1,)\n",
    "        thr, _ = x_cnn5.max(dim= -1,)\n",
    "      \n",
    "        x_cat = torch.cat((frst, sc, thr), dim=-1) # а теперь объединим результаты\n",
    "      \n",
    "        x = self.linear_1(x_cat)\n",
    "        # пару полносвязных слоев с релу для классификации\n",
    "        x = self.relu(x)    \n",
    "        x = self.linear_2(x)\n",
    "    \n",
    "        return x"
   ]
  },
  {
   "cell_type": "code",
   "execution_count": null,
   "metadata": {},
   "outputs": [],
   "source": []
  },
  {
   "cell_type": "code",
   "execution_count": 65,
   "metadata": {
    "id": "jFbyUXLE0WPv"
   },
   "outputs": [],
   "source": [
    "n_classes = data.category.unique().shape[0]"
   ]
  },
  {
   "cell_type": "code",
   "execution_count": 61,
   "metadata": {},
   "outputs": [
    {
     "data": {
      "text/plain": [
       "5"
      ]
     },
     "execution_count": 61,
     "metadata": {},
     "output_type": "execute_result"
    }
   ],
   "source": [
    "n_classes"
   ]
  },
  {
   "cell_type": "code",
   "execution_count": 62,
   "metadata": {},
   "outputs": [
    {
     "data": {
      "text/plain": [
       "300"
      ]
     },
     "execution_count": 62,
     "metadata": {},
     "output_type": "execute_result"
    }
   ],
   "source": [
    "vectors.shape[1]"
   ]
  },
  {
   "cell_type": "code",
   "execution_count": 63,
   "metadata": {
    "id": "OZgh4ONx0HvT"
   },
   "outputs": [],
   "source": [
    "model = model_with_att(vectors, n_classes)"
   ]
  },
  {
   "cell_type": "code",
   "execution_count": 64,
   "metadata": {
    "colab": {
     "base_uri": "https://localhost:8080/",
     "height": 255
    },
    "id": "CNO6VSbJgQ36",
    "outputId": "409a1cc5-8448-4a0e-ec43-77d8d6f79683"
   },
   "outputs": [
    {
     "data": {
      "text/plain": [
       "model_with_att(\n",
       "  (emb_layer): Embedding(117619, 300)\n",
       "  (LSTM): LSTM(300, 256, num_layers=2, batch_first=True, dropout=0.1, bidirectional=True)\n",
       "  (q_proj): Linear(in_features=512, out_features=256, bias=True)\n",
       "  (k_proj): Linear(in_features=512, out_features=256, bias=True)\n",
       "  (v_proj): Linear(in_features=512, out_features=256, bias=True)\n",
       "  (att_soft): Softmax(dim=2)\n",
       "  (cnn_3gr): Conv1d(256, 128, kernel_size=(3,), stride=(1,))\n",
       "  (cnn_4gr): Conv1d(256, 128, kernel_size=(4,), stride=(1,))\n",
       "  (cnn_5gr): Conv1d(256, 128, kernel_size=(5,), stride=(1,))\n",
       "  (linear_1): Linear(in_features=384, out_features=256, bias=True)\n",
       "  (relu): ReLU()\n",
       "  (linear_2): Linear(in_features=256, out_features=5, bias=True)\n",
       ")"
      ]
     },
     "execution_count": 64,
     "metadata": {},
     "output_type": "execute_result"
    }
   ],
   "source": [
    "model #если сделать batch_first=True, то можно не транспонировать батчи"
   ]
  },
  {
   "cell_type": "code",
   "execution_count": 66,
   "metadata": {
    "id": "E66MWNgM0QKM"
   },
   "outputs": [],
   "source": [
    "with torch.no_grad():\n",
    "    pred = model(x)"
   ]
  },
  {
   "cell_type": "code",
   "execution_count": 67,
   "metadata": {
    "id": "ErboeQbv0dnC"
   },
   "outputs": [
    {
     "data": {
      "text/plain": [
       "torch.Size([64, 5])"
      ]
     },
     "execution_count": 67,
     "metadata": {},
     "output_type": "execute_result"
    }
   ],
   "source": [
    "pred.shape"
   ]
  },
  {
   "cell_type": "code",
   "execution_count": 68,
   "metadata": {
    "id": "bL6zIZSt0h9W"
   },
   "outputs": [],
   "source": [
    "device = torch.device('cuda') if torch.cuda.is_available() else torch.device('cpu')"
   ]
  },
  {
   "cell_type": "code",
   "execution_count": 69,
   "metadata": {
    "id": "Vsxw4M2m0m2B"
   },
   "outputs": [],
   "source": [
    "criterion = torch.nn.CrossEntropyLoss()\n",
    "optimizer = torch.optim.Adam(params=model.parameters())\n",
    "\n",
    "model = model.to(device)\n",
    "criterion = criterion.to(device)"
   ]
  },
  {
   "cell_type": "code",
   "execution_count": 70,
   "metadata": {
    "colab": {
     "base_uri": "https://localhost:8080/",
     "height": 323
    },
    "id": "7rUTc0l60pV9",
    "outputId": "ea81b9b3-b1d3-4122-869b-da0592397d76"
   },
   "outputs": [
    {
     "name": "stderr",
     "output_type": "stream",
     "text": [
      "Epoch 1: 100%|██████████████████████████████████████████████| 214001/214001 [05:24<00:00, 658.96it/s, train_loss=0.486]\n"
     ]
    },
    {
     "name": "stdout",
     "output_type": "stream",
     "text": [
      "\n",
      "Losses: train - 0.570, test - 0.489\n",
      "F1 test - 0.827\n"
     ]
    },
    {
     "name": "stderr",
     "output_type": "stream",
     "text": [
      "Epoch 2: 100%|██████████████████████████████████████████████| 214001/214001 [05:09<00:00, 690.69it/s, train_loss=0.449]\n"
     ]
    },
    {
     "name": "stdout",
     "output_type": "stream",
     "text": [
      "\n",
      "Losses: train - 0.460, test - 0.456\n",
      "F1 test - 0.840\n"
     ]
    },
    {
     "name": "stderr",
     "output_type": "stream",
     "text": [
      "Epoch 3: 100%|██████████████████████████████████████████████| 214001/214001 [05:07<00:00, 696.14it/s, train_loss=0.425]\n"
     ]
    },
    {
     "name": "stdout",
     "output_type": "stream",
     "text": [
      "\n",
      "Losses: train - 0.434, test - 0.440\n",
      "F1 test - 0.844\n"
     ]
    },
    {
     "name": "stderr",
     "output_type": "stream",
     "text": [
      "Epoch 4: 100%|██████████████████████████████████████████████| 214001/214001 [05:05<00:00, 700.47it/s, train_loss=0.406]\n"
     ]
    },
    {
     "name": "stdout",
     "output_type": "stream",
     "text": [
      "\n",
      "Losses: train - 0.414, test - 0.428\n",
      "F1 test - 0.847\n"
     ]
    },
    {
     "name": "stderr",
     "output_type": "stream",
     "text": [
      "Epoch 5: 100%|██████████████████████████████████████████████| 214001/214001 [05:05<00:00, 700.34it/s, train_loss=0.386]\n"
     ]
    },
    {
     "name": "stdout",
     "output_type": "stream",
     "text": [
      "\n",
      "Losses: train - 0.395, test - 0.426\n",
      "F1 test - 0.849\n"
     ]
    },
    {
     "name": "stderr",
     "output_type": "stream",
     "text": [
      "Epoch 6: 100%|██████████████████████████████████████████████| 214001/214001 [05:05<00:00, 701.12it/s, train_loss=0.368]\n"
     ]
    },
    {
     "name": "stdout",
     "output_type": "stream",
     "text": [
      "\n",
      "Losses: train - 0.374, test - 0.436\n",
      "F1 test - 0.849\n",
      "Early stopping\n"
     ]
    }
   ],
   "source": [
    "epochs = 10\n",
    "losses = []\n",
    "best_test_loss = 10.\n",
    "\n",
    "test_f1 = []\n",
    "\n",
    "for n_epoch in range(epochs):\n",
    "    \n",
    "    train_losses = []\n",
    "    test_losses = []\n",
    "    test_targets = []\n",
    "    test_pred_class = []\n",
    "    \n",
    "    progress_bar = tqdm(total=len(train_loader.dataset), desc='Epoch {}'.format(n_epoch + 1))\n",
    "    \n",
    "    model.train()\n",
    "    \n",
    "    for x, y in train_loader:\n",
    "\n",
    "        x = x.to(device)\n",
    "        y = y.to(device)\n",
    "        \n",
    "        optimizer.zero_grad()\n",
    "        \n",
    "        pred = model(x)\n",
    "        loss = criterion(pred, y)\n",
    "        \n",
    "        loss.backward()\n",
    "        \n",
    "        optimizer.step()\n",
    "        \n",
    "        train_losses.append(loss.item())\n",
    "        losses.append(loss.item())\n",
    "        \n",
    "        progress_bar.set_postfix(train_loss = np.mean(losses[-500:]))\n",
    "\n",
    "        progress_bar.update(x.shape[0])\n",
    "        \n",
    "    progress_bar.close()\n",
    "    \n",
    "    model.eval()\n",
    "    \n",
    "    for x, y in validation_loader:\n",
    "        \n",
    "        x = x.to(device)\n",
    "\n",
    "        with torch.no_grad():\n",
    "\n",
    "            pred = model(x)\n",
    "\n",
    "            pred = pred.cpu()\n",
    "\n",
    "            test_targets.append(y.numpy())\n",
    "            test_pred_class.append(np.argmax(pred, axis=1))\n",
    "\n",
    "            loss = criterion(pred, y)\n",
    "\n",
    "            test_losses.append(loss.item())\n",
    "        \n",
    "    mean_test_loss = np.mean(test_losses)\n",
    "\n",
    "    test_targets = np.concatenate(test_targets).squeeze()\n",
    "    test_pred_class = np.concatenate(test_pred_class).squeeze()\n",
    "\n",
    "    f1 = f1_score(test_targets, test_pred_class, average='micro')\n",
    "\n",
    "    test_f1.append(f1)\n",
    "    \n",
    "    print()\n",
    "    print('Losses: train - {:.3f}, test - {:.3f}'.format(np.mean(train_losses), mean_test_loss))\n",
    "\n",
    "    print('F1 test - {:.3f}'.format(f1))\n",
    "        \n",
    "    # Early stopping:\n",
    "    if mean_test_loss < best_test_loss:\n",
    "        best_test_loss = mean_test_loss\n",
    "    else:\n",
    "        print('Early stopping')\n",
    "        break"
   ]
  },
  {
   "cell_type": "markdown",
   "metadata": {
    "id": "1TMaPbh3oWwc"
   },
   "source": [
    "Если вы запускаете много раз колаб окна и ткдм начинает беситься, можно запустить окно ниже, ткдм обновится и все снова станет хорошо"
   ]
  },
  {
   "cell_type": "code",
   "execution_count": null,
   "metadata": {
    "colab": {
     "base_uri": "https://localhost:8080/",
     "height": 34
    },
    "id": "_aPjTQcR0vm2",
    "outputId": "03d584f8-2f8c-4e0b-ae8e-7112f6624275"
   },
   "outputs": [],
   "source": [
    "for instance in list(tqdm._instances): \n",
    "    tqdm._decr_instances(instance)"
   ]
  },
  {
   "cell_type": "markdown",
   "metadata": {},
   "source": [
    "# Оценка\n",
    "1. Добрались сюда - очень хорошо - получилась такая же точность или около того - 7 баллов.\n",
    "2. Поставили эксперименты и повысили точность относительно своей и не ниже F1 test - 0.841 - 8 баллов.\n",
    "3. Запустили бертовую тетрадку и разобрались. Получился сравнимый результат - 10 баллов "
   ]
  },
  {
   "cell_type": "markdown",
   "metadata": {
    "id": "e5BgHdtW2sO3"
   },
   "source": []
  }
 ],
 "metadata": {
  "accelerator": "GPU",
  "colab": {
   "name": "QuesT_Homework3_classification.ipynb",
   "provenance": []
  },
  "kernelspec": {
   "display_name": "Python 3 (ipykernel)",
   "language": "python",
   "name": "python3"
  },
  "language_info": {
   "codemirror_mode": {
    "name": "ipython",
    "version": 3
   },
   "file_extension": ".py",
   "mimetype": "text/x-python",
   "name": "python",
   "nbconvert_exporter": "python",
   "pygments_lexer": "ipython3",
   "version": "3.8.12"
  }
 },
 "nbformat": 4,
 "nbformat_minor": 1
}
