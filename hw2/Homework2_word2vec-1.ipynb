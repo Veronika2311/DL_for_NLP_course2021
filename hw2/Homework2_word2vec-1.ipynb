{
 "cells": [
  {
   "cell_type": "code",
   "execution_count": 1,
   "metadata": {},
   "outputs": [],
   "source": [
    "import json\n",
    "import random\n",
    "from tqdm import tqdm\n",
    "import numpy as np\n",
    "\n",
    "from matplotlib import pyplot as plt\n",
    "from sklearn.decomposition import TruncatedSVD\n",
    "from sklearn.manifold import TSNE\n",
    "\n",
    "import torch\n",
    "\n",
    "from pylab import rcParams\n",
    "rcParams['figure.figsize'] = 15, 15"
   ]
  },
  {
   "cell_type": "code",
   "execution_count": 2,
   "metadata": {},
   "outputs": [
    {
     "name": "stdout",
     "output_type": "stream",
     "text": [
      "Requirement already satisfied: torch in c:\\users\\veron\\anaconda3\\envs\\main\\lib\\site-packages (1.10.0)\n",
      "Requirement already satisfied: typing-extensions in c:\\users\\veron\\anaconda3\\envs\\main\\lib\\site-packages (from torch) (3.10.0.2)\n"
     ]
    }
   ],
   "source": [
    "!pip install torch"
   ]
  },
  {
   "cell_type": "markdown",
   "metadata": {},
   "source": [
    "# Что делать?\n",
    "Где есть пометка # CODE писать код\n",
    "\n",
    "[Полезный туториал](http://jalammar.github.io/illustrated-word2vec/)"
   ]
  },
  {
   "cell_type": "markdown",
   "metadata": {},
   "source": [
    "# Загружаем данные\n",
    "Они уже обработанные и токенизированные. Процесс можно посмотреть в тетрадке 1.1 Processing corpus"
   ]
  },
  {
   "cell_type": "code",
   "execution_count": 3,
   "metadata": {},
   "outputs": [],
   "source": [
    "with open('data/processed_corpus.json', encoding='utf8') as f:\n",
    "    corpus = json.load(f)"
   ]
  },
  {
   "cell_type": "code",
   "execution_count": 4,
   "metadata": {},
   "outputs": [
    {
     "data": {
      "text/plain": [
       "100000"
      ]
     },
     "execution_count": 4,
     "metadata": {},
     "output_type": "execute_result"
    }
   ],
   "source": [
    "len(corpus)"
   ]
  },
  {
   "cell_type": "code",
   "execution_count": 5,
   "metadata": {},
   "outputs": [
    {
     "name": "stdout",
     "output_type": "stream",
     "text": [
      "второй UNK год окончательно разочаровать решить податься альфабанк\n",
      "вернуть денежный средство лицевой счёт либо зачесть счёт погашение кредит\n",
      "притом ситуация решиться участие течение сутки заявить\n",
      "мой ##число летний жизнь это самый неповоротливый работник банк который видеть\n",
      "везде написать вклад принимать очередь это\n"
     ]
    }
   ],
   "source": [
    "for i, text in enumerate(corpus[:5]):\n",
    "    print(' '.join(text))"
   ]
  },
  {
   "cell_type": "markdown",
   "metadata": {},
   "source": [
    "# CBOW"
   ]
  },
  {
   "cell_type": "code",
   "execution_count": 6,
   "metadata": {},
   "outputs": [],
   "source": [
    "sample_text = corpus[1]"
   ]
  },
  {
   "cell_type": "code",
   "execution_count": 7,
   "metadata": {},
   "outputs": [
    {
     "data": {
      "text/plain": [
       "'вернуть денежный средство лицевой счёт либо зачесть счёт погашение кредит'"
      ]
     },
     "execution_count": 7,
     "metadata": {},
     "output_type": "execute_result"
    }
   ],
   "source": [
    "' '.join(sample_text)"
   ]
  },
  {
   "cell_type": "markdown",
   "metadata": {},
   "source": [
    "# Реализуйте разделение предложения на примеры методом CBOW"
   ]
  },
  {
   "cell_type": "code",
   "execution_count": 8,
   "metadata": {},
   "outputs": [],
   "source": [
    "def cbow_split(tokens, window, pad_token='PAD'):\n",
    "    \n",
    "    splits = []\n",
    "    \n",
    "    split_tokens = [pad_token] * window + tokens + [pad_token] * window\n",
    "    \n",
    "    for i in range(window, len(split_tokens) - window):\n",
    "        splits.append([split_tokens[i - window:i], split_tokens[i], split_tokens[i + 1:i + window + 1]])\n",
    "    \n",
    "    return splits"
   ]
  },
  {
   "cell_type": "code",
   "execution_count": 9,
   "metadata": {},
   "outputs": [],
   "source": [
    "splits = cbow_split(sample_text, window=2)"
   ]
  },
  {
   "cell_type": "code",
   "execution_count": 10,
   "metadata": {},
   "outputs": [
    {
     "name": "stdout",
     "output_type": "stream",
     "text": [
      "Левый контекст: ['PAD', 'PAD']\n",
      "Центральное слово: вернуть\n",
      "Правый контекст: ['денежный', 'средство']\n",
      "\n",
      "Левый контекст: ['PAD', 'вернуть']\n",
      "Центральное слово: денежный\n",
      "Правый контекст: ['средство', 'лицевой']\n",
      "\n",
      "Левый контекст: ['вернуть', 'денежный']\n",
      "Центральное слово: средство\n",
      "Правый контекст: ['лицевой', 'счёт']\n",
      "\n",
      "Левый контекст: ['денежный', 'средство']\n",
      "Центральное слово: лицевой\n",
      "Правый контекст: ['счёт', 'либо']\n",
      "\n",
      "Левый контекст: ['средство', 'лицевой']\n",
      "Центральное слово: счёт\n",
      "Правый контекст: ['либо', 'зачесть']\n",
      "\n",
      "Левый контекст: ['лицевой', 'счёт']\n",
      "Центральное слово: либо\n",
      "Правый контекст: ['зачесть', 'счёт']\n",
      "\n",
      "Левый контекст: ['счёт', 'либо']\n",
      "Центральное слово: зачесть\n",
      "Правый контекст: ['счёт', 'погашение']\n",
      "\n",
      "Левый контекст: ['либо', 'зачесть']\n",
      "Центральное слово: счёт\n",
      "Правый контекст: ['погашение', 'кредит']\n",
      "\n",
      "Левый контекст: ['зачесть', 'счёт']\n",
      "Центральное слово: погашение\n",
      "Правый контекст: ['кредит', 'PAD']\n",
      "\n",
      "Левый контекст: ['счёт', 'погашение']\n",
      "Центральное слово: кредит\n",
      "Правый контекст: ['PAD', 'PAD']\n",
      "\n"
     ]
    }
   ],
   "source": [
    "for sample in splits:\n",
    "    print('Левый контекст:', sample[0])\n",
    "    print('Центральное слово:', sample[1])\n",
    "    print('Правый контекст:', sample[2], end='\\n\\n')"
   ]
  },
  {
   "cell_type": "code",
   "execution_count": 11,
   "metadata": {},
   "outputs": [
    {
     "data": {
      "text/plain": [
       "[[['PAD', 'PAD'], 'вернуть', ['денежный', 'средство']],\n",
       " [['PAD', 'вернуть'], 'денежный', ['средство', 'лицевой']],\n",
       " [['вернуть', 'денежный'], 'средство', ['лицевой', 'счёт']],\n",
       " [['денежный', 'средство'], 'лицевой', ['счёт', 'либо']],\n",
       " [['средство', 'лицевой'], 'счёт', ['либо', 'зачесть']],\n",
       " [['лицевой', 'счёт'], 'либо', ['зачесть', 'счёт']],\n",
       " [['счёт', 'либо'], 'зачесть', ['счёт', 'погашение']],\n",
       " [['либо', 'зачесть'], 'счёт', ['погашение', 'кредит']],\n",
       " [['зачесть', 'счёт'], 'погашение', ['кредит', 'PAD']],\n",
       " [['счёт', 'погашение'], 'кредит', ['PAD', 'PAD']]]"
      ]
     },
     "execution_count": 11,
     "metadata": {},
     "output_type": "execute_result"
    }
   ],
   "source": [
    "splits"
   ]
  },
  {
   "cell_type": "markdown",
   "metadata": {},
   "source": [
    "# Expected\n",
    "\n",
    "```python\n",
    "[(['PAD', 'PAD'], 'вопрос', ['почему', 'например']),\n",
    " (['PAD', 'вопрос'], 'почему', ['например', 'китайский']),\n",
    " (['вопрос', 'почему'], 'например', ['китайский', 'японский']),\n",
    " (['почему', 'например'], 'китайский', ['японский', 'UNK']),\n",
    " (['например', 'китайский'], 'японский', ['UNK', 'PAD']),\n",
    " (['китайский', 'японский'], 'UNK', ['PAD', 'PAD'])]\n",
    "```"
   ]
  },
  {
   "cell_type": "code",
   "execution_count": 12,
   "metadata": {},
   "outputs": [
    {
     "data": {
      "text/plain": [
       "[[['PAD', 'PAD', 'PAD'], 'вернуть', ['денежный', 'средство', 'лицевой']],\n",
       " [['PAD', 'PAD', 'вернуть'], 'денежный', ['средство', 'лицевой', 'счёт']],\n",
       " [['PAD', 'вернуть', 'денежный'], 'средство', ['лицевой', 'счёт', 'либо']],\n",
       " [['вернуть', 'денежный', 'средство'], 'лицевой', ['счёт', 'либо', 'зачесть']],\n",
       " [['денежный', 'средство', 'лицевой'], 'счёт', ['либо', 'зачесть', 'счёт']],\n",
       " [['средство', 'лицевой', 'счёт'], 'либо', ['зачесть', 'счёт', 'погашение']],\n",
       " [['лицевой', 'счёт', 'либо'], 'зачесть', ['счёт', 'погашение', 'кредит']],\n",
       " [['счёт', 'либо', 'зачесть'], 'счёт', ['погашение', 'кредит', 'PAD']],\n",
       " [['либо', 'зачесть', 'счёт'], 'погашение', ['кредит', 'PAD', 'PAD']],\n",
       " [['зачесть', 'счёт', 'погашение'], 'кредит', ['PAD', 'PAD', 'PAD']]]"
      ]
     },
     "execution_count": 12,
     "metadata": {},
     "output_type": "execute_result"
    }
   ],
   "source": [
    "cbow_split(sample_text, window=3)"
   ]
  },
  {
   "cell_type": "markdown",
   "metadata": {},
   "source": [
    "# Expected\n",
    "\n",
    "```python\n",
    "[(['PAD', 'PAD', 'PAD'], 'вопрос', ['почему', 'например', 'китайский']),\n",
    " (['PAD', 'PAD', 'вопрос'], 'почему', ['например', 'китайский', 'японский']),\n",
    " (['PAD', 'вопрос', 'почему'], 'например', ['китайский', 'японский', 'UNK']),\n",
    " (['вопрос', 'почему', 'например'], 'китайский', ['японский', 'UNK', 'PAD']),\n",
    " (['почему', 'например', 'китайский'], 'японский', ['UNK', 'PAD', 'PAD']),\n",
    " (['например', 'китайский', 'японский'], 'UNK', ['PAD', 'PAD', 'PAD'])]\n",
    "```"
   ]
  },
  {
   "cell_type": "markdown",
   "metadata": {},
   "source": [
    "# Skipgram"
   ]
  },
  {
   "cell_type": "code",
   "execution_count": 13,
   "metadata": {},
   "outputs": [
    {
     "data": {
      "text/plain": [
       "'вернуть денежный средство лицевой счёт либо зачесть счёт погашение кредит'"
      ]
     },
     "execution_count": 13,
     "metadata": {},
     "output_type": "execute_result"
    }
   ],
   "source": [
    "' '.join(sample_text)"
   ]
  },
  {
   "cell_type": "markdown",
   "metadata": {},
   "source": [
    "# Реализуйте разделение предложения на примеры методом Skipgram"
   ]
  },
  {
   "cell_type": "code",
   "execution_count": 14,
   "metadata": {},
   "outputs": [],
   "source": [
    "def skipgram_split(tokens, window):\n",
    "    \n",
    "    splits = []\n",
    "    \n",
    "    for i, el in enumerate(tokens):\n",
    "        if i-1 >= 0:\n",
    "            splits.append([tokens[i-1], tokens[i]])\n",
    "        if i-2 >= 0:\n",
    "            splits.append([tokens[i-2], tokens[i]])\n",
    "        if i+1 < len(tokens):\n",
    "            splits.append([tokens[i+1], tokens[i]])\n",
    "        if i+2 < len(tokens):\n",
    "            splits.append([tokens[i+2], tokens[i]])\n",
    "    \n",
    "    return splits"
   ]
  },
  {
   "cell_type": "code",
   "execution_count": 15,
   "metadata": {},
   "outputs": [],
   "source": [
    "splits = skipgram_split(sample_text, window=2)"
   ]
  },
  {
   "cell_type": "code",
   "execution_count": 16,
   "metadata": {},
   "outputs": [
    {
     "name": "stdout",
     "output_type": "stream",
     "text": [
      "Контекст: денежный\n",
      "Центральное слово: вернуть\n",
      "\n",
      "Контекст: средство\n",
      "Центральное слово: вернуть\n",
      "\n",
      "Контекст: вернуть\n",
      "Центральное слово: денежный\n",
      "\n",
      "Контекст: средство\n",
      "Центральное слово: денежный\n",
      "\n",
      "Контекст: лицевой\n",
      "Центральное слово: денежный\n",
      "\n",
      "Контекст: денежный\n",
      "Центральное слово: средство\n",
      "\n",
      "Контекст: вернуть\n",
      "Центральное слово: средство\n",
      "\n",
      "Контекст: лицевой\n",
      "Центральное слово: средство\n",
      "\n",
      "Контекст: счёт\n",
      "Центральное слово: средство\n",
      "\n",
      "Контекст: средство\n",
      "Центральное слово: лицевой\n",
      "\n",
      "Контекст: денежный\n",
      "Центральное слово: лицевой\n",
      "\n",
      "Контекст: счёт\n",
      "Центральное слово: лицевой\n",
      "\n",
      "Контекст: либо\n",
      "Центральное слово: лицевой\n",
      "\n",
      "Контекст: лицевой\n",
      "Центральное слово: счёт\n",
      "\n",
      "Контекст: средство\n",
      "Центральное слово: счёт\n",
      "\n",
      "Контекст: либо\n",
      "Центральное слово: счёт\n",
      "\n",
      "Контекст: зачесть\n",
      "Центральное слово: счёт\n",
      "\n",
      "Контекст: счёт\n",
      "Центральное слово: либо\n",
      "\n",
      "Контекст: лицевой\n",
      "Центральное слово: либо\n",
      "\n",
      "Контекст: зачесть\n",
      "Центральное слово: либо\n",
      "\n",
      "Контекст: счёт\n",
      "Центральное слово: либо\n",
      "\n",
      "Контекст: либо\n",
      "Центральное слово: зачесть\n",
      "\n",
      "Контекст: счёт\n",
      "Центральное слово: зачесть\n",
      "\n",
      "Контекст: счёт\n",
      "Центральное слово: зачесть\n",
      "\n",
      "Контекст: погашение\n",
      "Центральное слово: зачесть\n",
      "\n",
      "Контекст: зачесть\n",
      "Центральное слово: счёт\n",
      "\n",
      "Контекст: либо\n",
      "Центральное слово: счёт\n",
      "\n",
      "Контекст: погашение\n",
      "Центральное слово: счёт\n",
      "\n",
      "Контекст: кредит\n",
      "Центральное слово: счёт\n",
      "\n",
      "Контекст: счёт\n",
      "Центральное слово: погашение\n",
      "\n",
      "Контекст: зачесть\n",
      "Центральное слово: погашение\n",
      "\n",
      "Контекст: кредит\n",
      "Центральное слово: погашение\n",
      "\n",
      "Контекст: погашение\n",
      "Центральное слово: кредит\n",
      "\n",
      "Контекст: счёт\n",
      "Центральное слово: кредит\n",
      "\n"
     ]
    }
   ],
   "source": [
    "for sample in splits:\n",
    "    print('Контекст:', sample[0])\n",
    "    print('Центральное слово:', sample[1], end='\\n\\n')"
   ]
  },
  {
   "cell_type": "code",
   "execution_count": 17,
   "metadata": {},
   "outputs": [
    {
     "data": {
      "text/plain": [
       "[['денежный', 'вернуть'],\n",
       " ['средство', 'вернуть'],\n",
       " ['вернуть', 'денежный'],\n",
       " ['средство', 'денежный'],\n",
       " ['лицевой', 'денежный'],\n",
       " ['денежный', 'средство'],\n",
       " ['вернуть', 'средство'],\n",
       " ['лицевой', 'средство'],\n",
       " ['счёт', 'средство'],\n",
       " ['средство', 'лицевой'],\n",
       " ['денежный', 'лицевой'],\n",
       " ['счёт', 'лицевой'],\n",
       " ['либо', 'лицевой'],\n",
       " ['лицевой', 'счёт'],\n",
       " ['средство', 'счёт'],\n",
       " ['либо', 'счёт'],\n",
       " ['зачесть', 'счёт'],\n",
       " ['счёт', 'либо'],\n",
       " ['лицевой', 'либо'],\n",
       " ['зачесть', 'либо'],\n",
       " ['счёт', 'либо'],\n",
       " ['либо', 'зачесть'],\n",
       " ['счёт', 'зачесть'],\n",
       " ['счёт', 'зачесть'],\n",
       " ['погашение', 'зачесть'],\n",
       " ['зачесть', 'счёт'],\n",
       " ['либо', 'счёт'],\n",
       " ['погашение', 'счёт'],\n",
       " ['кредит', 'счёт'],\n",
       " ['счёт', 'погашение'],\n",
       " ['зачесть', 'погашение'],\n",
       " ['кредит', 'погашение'],\n",
       " ['погашение', 'кредит'],\n",
       " ['счёт', 'кредит']]"
      ]
     },
     "execution_count": 17,
     "metadata": {},
     "output_type": "execute_result"
    }
   ],
   "source": [
    "skipgram_split(sample_text, window=2)"
   ]
  },
  {
   "cell_type": "markdown",
   "metadata": {},
   "source": [
    "# Expected\n",
    "\n",
    "```python\n",
    "[('почему', 'вопрос'),\n",
    " ('например', 'вопрос'),\n",
    " ('вопрос', 'почему'),\n",
    " ('например', 'почему'),\n",
    " ('китайский', 'почему'),\n",
    " ('вопрос', 'например'),\n",
    " ('почему', 'например'),\n",
    " ('китайский', 'например'),\n",
    " ('японский', 'например'),\n",
    " ('почему', 'китайский'),\n",
    " ('например', 'китайский'),\n",
    " ('японский', 'китайский'),\n",
    " ('UNK', 'китайский'),\n",
    " ('например', 'японский'),\n",
    " ('китайский', 'японский'),\n",
    " ('UNK', 'японский'),\n",
    " ('китайский', 'UNK'),\n",
    " ('японский', 'UNK')]\n",
    "```"
   ]
  },
  {
   "cell_type": "code",
   "execution_count": 18,
   "metadata": {},
   "outputs": [
    {
     "data": {
      "text/plain": [
       "[['денежный', 'вернуть'],\n",
       " ['средство', 'вернуть'],\n",
       " ['вернуть', 'денежный'],\n",
       " ['средство', 'денежный'],\n",
       " ['лицевой', 'денежный'],\n",
       " ['денежный', 'средство'],\n",
       " ['вернуть', 'средство'],\n",
       " ['лицевой', 'средство'],\n",
       " ['счёт', 'средство'],\n",
       " ['средство', 'лицевой'],\n",
       " ['денежный', 'лицевой'],\n",
       " ['счёт', 'лицевой'],\n",
       " ['либо', 'лицевой'],\n",
       " ['лицевой', 'счёт'],\n",
       " ['средство', 'счёт'],\n",
       " ['либо', 'счёт'],\n",
       " ['зачесть', 'счёт'],\n",
       " ['счёт', 'либо'],\n",
       " ['лицевой', 'либо'],\n",
       " ['зачесть', 'либо'],\n",
       " ['счёт', 'либо'],\n",
       " ['либо', 'зачесть'],\n",
       " ['счёт', 'зачесть'],\n",
       " ['счёт', 'зачесть'],\n",
       " ['погашение', 'зачесть'],\n",
       " ['зачесть', 'счёт'],\n",
       " ['либо', 'счёт'],\n",
       " ['погашение', 'счёт'],\n",
       " ['кредит', 'счёт'],\n",
       " ['счёт', 'погашение'],\n",
       " ['зачесть', 'погашение'],\n",
       " ['кредит', 'погашение'],\n",
       " ['погашение', 'кредит'],\n",
       " ['счёт', 'кредит']]"
      ]
     },
     "execution_count": 18,
     "metadata": {},
     "output_type": "execute_result"
    }
   ],
   "source": [
    "skipgram_split(sample_text, window=3)"
   ]
  },
  {
   "cell_type": "markdown",
   "metadata": {},
   "source": [
    "# Expected\n",
    "\n",
    "```python\n",
    "[('почему', 'вопрос'),\n",
    " ('например', 'вопрос'),\n",
    " ('китайский', 'вопрос'),\n",
    " ('вопрос', 'почему'),\n",
    " ('например', 'почему'),\n",
    " ('китайский', 'почему'),\n",
    " ('японский', 'почему'),\n",
    " ('вопрос', 'например'),\n",
    " ('почему', 'например'),\n",
    " ('китайский', 'например'),\n",
    " ('японский', 'например'),\n",
    " ('UNK', 'например'),\n",
    " ('вопрос', 'китайский'),\n",
    " ('почему', 'китайский'),\n",
    " ('например', 'китайский'),\n",
    " ('японский', 'китайский'),\n",
    " ('UNK', 'китайский'),\n",
    " ('почему', 'японский'),\n",
    " ('например', 'японский'),\n",
    " ('китайский', 'японский'),\n",
    " ('UNK', 'японский'),\n",
    " ('например', 'UNK'),\n",
    " ('китайский', 'UNK'),\n",
    " ('японский', 'UNK')]\n",
    "```"
   ]
  },
  {
   "cell_type": "code",
   "execution_count": 19,
   "metadata": {},
   "outputs": [],
   "source": [
    "word2index = {}\n",
    "\n",
    "for text in corpus:\n",
    "    for token in text:\n",
    "        if token not in word2index:\n",
    "            word2index[token] = len(word2index)"
   ]
  },
  {
   "cell_type": "code",
   "execution_count": 20,
   "metadata": {},
   "outputs": [
    {
     "data": {
      "text/plain": [
       "13076"
      ]
     },
     "execution_count": 20,
     "metadata": {},
     "output_type": "execute_result"
    }
   ],
   "source": [
    "len(word2index)"
   ]
  },
  {
   "cell_type": "code",
   "execution_count": 21,
   "metadata": {},
   "outputs": [
    {
     "data": {
      "text/plain": [
       "1"
      ]
     },
     "execution_count": 21,
     "metadata": {},
     "output_type": "execute_result"
    }
   ],
   "source": [
    "word2index['UNK']"
   ]
  },
  {
   "cell_type": "code",
   "execution_count": 22,
   "metadata": {},
   "outputs": [
    {
     "data": {
      "text/plain": [
       "[1282, 8436, 1]"
      ]
     },
     "execution_count": 22,
     "metadata": {},
     "output_type": "execute_result"
    }
   ],
   "source": [
    "[word2index[tok] if tok in word2index else word2index['UNK'] for tok in 'мама мыть рама'.split()]"
   ]
  },
  {
   "cell_type": "markdown",
   "metadata": {},
   "source": [
    "# Torch Dataset\n",
    "В торче есть очень удобная читалка данных"
   ]
  },
  {
   "cell_type": "code",
   "execution_count": 23,
   "metadata": {},
   "outputs": [],
   "source": [
    "from torch.utils.data import Dataset, DataLoader"
   ]
  },
  {
   "cell_type": "code",
   "execution_count": 24,
   "metadata": {},
   "outputs": [],
   "source": [
    "# игрушечный датасет\n",
    "# 121535 примера, 4 фичи, 3 класса\n",
    "some_data_x = np.random.rand(121535, 4)\n",
    "some_data_y = np.random.randint(3, size=(121535,))"
   ]
  },
  {
   "cell_type": "code",
   "execution_count": 25,
   "metadata": {},
   "outputs": [
    {
     "data": {
      "text/plain": [
       "array([[0.23910005, 0.74908916, 0.13168023, 0.6194401 ],\n",
       "       [0.45391989, 0.79862126, 0.48811555, 0.16051534],\n",
       "       [0.85184347, 0.39953504, 0.74801584, 0.0461783 ],\n",
       "       [0.08240143, 0.04768102, 0.08039755, 0.70117462],\n",
       "       [0.78558768, 0.71124862, 0.65668326, 0.35199104],\n",
       "       [0.16790165, 0.13351401, 0.07812463, 0.1191475 ],\n",
       "       [0.86170935, 0.78883142, 0.77117758, 0.07734652],\n",
       "       [0.36056773, 0.58297486, 0.72671264, 0.2925142 ],\n",
       "       [0.10187046, 0.59803139, 0.51391263, 0.39121145],\n",
       "       [0.5432768 , 0.66229512, 0.06880326, 0.18424271]])"
      ]
     },
     "execution_count": 25,
     "metadata": {},
     "output_type": "execute_result"
    }
   ],
   "source": [
    "# соверешенно игрушечный, просто цифры\n",
    "some_data_x[:10]"
   ]
  },
  {
   "cell_type": "code",
   "execution_count": 26,
   "metadata": {},
   "outputs": [
    {
     "data": {
      "text/plain": [
       "array([2, 1, 1, ..., 0, 2, 0])"
      ]
     },
     "execution_count": 26,
     "metadata": {},
     "output_type": "execute_result"
    }
   ],
   "source": [
    "some_data_y"
   ]
  },
  {
   "cell_type": "code",
   "execution_count": 27,
   "metadata": {},
   "outputs": [],
   "source": [
    "class ToyDataset(Dataset):\n",
    "    \n",
    "    def __init__(self, data_x, data_y):\n",
    "        \n",
    "        super().__init__()\n",
    "        \n",
    "        self.data_x = data_x\n",
    "        self.data_y = data_y\n",
    "        \n",
    "    def __len__(self):\n",
    "        \n",
    "        # Нужно обязательно определить эту функцию\n",
    "        # Должна возвращать размер датасета\n",
    "        \n",
    "        return len(self.data_x)\n",
    "    \n",
    "    def __getitem__(self, idx):\n",
    "        \n",
    "        # Еще нужно определить этот метод\n",
    "        # То есть как мы будем доставать наши данные по индексу\n",
    "        \n",
    "        return self.data_x[idx], self.data_y[idx]"
   ]
  },
  {
   "cell_type": "code",
   "execution_count": 28,
   "metadata": {},
   "outputs": [],
   "source": [
    "some_dataset = ToyDataset(some_data_x, some_data_y)"
   ]
  },
  {
   "cell_type": "code",
   "execution_count": 29,
   "metadata": {},
   "outputs": [
    {
     "data": {
      "text/plain": [
       "((array([0.16790165, 0.13351401, 0.07812463, 0.1191475 ]), 1),\n",
       " (array([0.21331463, 0.32951923, 0.24483152, 0.24615233]), 0))"
      ]
     },
     "execution_count": 29,
     "metadata": {},
     "output_type": "execute_result"
    }
   ],
   "source": [
    "some_dataset[5], some_dataset[467]"
   ]
  },
  {
   "cell_type": "code",
   "execution_count": 30,
   "metadata": {},
   "outputs": [],
   "source": [
    "some_loader = DataLoader(some_dataset, batch_size=16, shuffle=True)"
   ]
  },
  {
   "cell_type": "code",
   "execution_count": 31,
   "metadata": {},
   "outputs": [
    {
     "data": {
      "text/plain": [
       "(16,\n",
       " tensor([[0.3335, 0.0935, 0.2486, 0.6267],\n",
       "         [0.6008, 0.2935, 0.0241, 0.9902],\n",
       "         [0.6501, 0.5862, 0.2110, 0.6561],\n",
       "         [0.1154, 0.5424, 0.1487, 0.8714],\n",
       "         [0.1397, 0.8283, 0.7065, 0.9852],\n",
       "         [0.7945, 0.9040, 0.4545, 0.7677],\n",
       "         [0.6739, 0.6592, 0.8922, 0.2291],\n",
       "         [0.9461, 0.4226, 0.4642, 0.2499],\n",
       "         [0.6829, 0.5749, 0.5335, 0.1252],\n",
       "         [0.4279, 0.2273, 0.2723, 0.4069],\n",
       "         [0.3892, 0.1199, 0.5152, 0.3974],\n",
       "         [0.3668, 0.8107, 0.5257, 0.5433],\n",
       "         [0.0707, 0.4270, 0.0907, 0.1055],\n",
       "         [0.0362, 0.5630, 0.4878, 0.5021],\n",
       "         [0.6024, 0.8427, 0.8872, 0.8744],\n",
       "         [0.6488, 0.9019, 0.1631, 0.2660]], dtype=torch.float64))"
      ]
     },
     "execution_count": 31,
     "metadata": {},
     "output_type": "execute_result"
    }
   ],
   "source": [
    "for x, y in some_loader:\n",
    "    break\n",
    "    \n",
    "len(x), x"
   ]
  },
  {
   "cell_type": "code",
   "execution_count": 32,
   "metadata": {},
   "outputs": [
    {
     "data": {
      "text/plain": [
       "15"
      ]
     },
     "execution_count": 32,
     "metadata": {},
     "output_type": "execute_result"
    }
   ],
   "source": [
    "for x, y in some_loader:\n",
    "    pass\n",
    "\n",
    "len(x)"
   ]
  },
  {
   "cell_type": "code",
   "execution_count": 33,
   "metadata": {},
   "outputs": [
    {
     "data": {
      "text/plain": [
       "15"
      ]
     },
     "execution_count": 33,
     "metadata": {},
     "output_type": "execute_result"
    }
   ],
   "source": [
    "# почему 13?\n",
    "# потому что количество наших данных нацело не делится на 16\n",
    "# и поэтому последний батч меньше 16-ти\n",
    "len(some_dataset) % 16"
   ]
  },
  {
   "cell_type": "markdown",
   "metadata": {},
   "source": [
    "# А зачем?"
   ]
  },
  {
   "cell_type": "code",
   "execution_count": 34,
   "metadata": {},
   "outputs": [],
   "source": [
    "class ToyDataset(Dataset):\n",
    "    \n",
    "    def __init__(self, data_x, data_y):\n",
    "        \n",
    "        super().__init__()\n",
    "        \n",
    "        self.data_x = data_x\n",
    "        self.data_y = data_y\n",
    "        \n",
    "    def __len__(self):\n",
    "        \n",
    "        # Нужно обязательно определить эту функцию\n",
    "        # Должна возвращать размер датасета\n",
    "        \n",
    "        return len(self.data_x)\n",
    "    \n",
    "    @staticmethod\n",
    "    def add_pow_features(x, n=2):\n",
    "        \n",
    "        return np.concatenate([x, x ** n]) \n",
    "    \n",
    "    @staticmethod\n",
    "    def add_log_features(x):\n",
    "        \n",
    "        return np.concatenate([x, np.log(x)]) \n",
    "    \n",
    "    def __getitem__(self, idx):\n",
    "        \n",
    "        # Еще нужно определить этот метод\n",
    "        # То есть как мы будем доставать наши данные по индексу\n",
    "        \n",
    "        x = self.data_x[idx]\n",
    "        \n",
    "        # внутри датасета мы можем делать все что угодно с нашими данными\n",
    "        # например выше определим функции, которые добавляют степенные фичи\n",
    "        x = self.add_pow_features(x, n=2)\n",
    "        x = self.add_pow_features(x, n=3)\n",
    "        # и еще возьмем логарифмические фичи\n",
    "        x = self.add_log_features(x)\n",
    "        \n",
    "        y = self.data_y[idx]\n",
    "        \n",
    "        return x, y"
   ]
  },
  {
   "cell_type": "code",
   "execution_count": 35,
   "metadata": {},
   "outputs": [],
   "source": [
    "toy_dataset = ToyDataset(some_data_x, some_data_y)"
   ]
  },
  {
   "cell_type": "code",
   "execution_count": 36,
   "metadata": {},
   "outputs": [],
   "source": [
    "toy_loader = DataLoader(dataset=toy_dataset, batch_size=128)"
   ]
  },
  {
   "cell_type": "code",
   "execution_count": 37,
   "metadata": {},
   "outputs": [],
   "source": [
    "for x, y in toy_loader:\n",
    "    break"
   ]
  },
  {
   "cell_type": "code",
   "execution_count": 38,
   "metadata": {},
   "outputs": [
    {
     "data": {
      "text/plain": [
       "torch.Size([128, 32])"
      ]
     },
     "execution_count": 38,
     "metadata": {},
     "output_type": "execute_result"
    }
   ],
   "source": [
    "x.shape"
   ]
  },
  {
   "cell_type": "code",
   "execution_count": 39,
   "metadata": {},
   "outputs": [
    {
     "data": {
      "text/plain": [
       "tensor([[  0.2391,   0.7491,   0.1317,  ...,  -1.7334, -12.1643,  -2.8736],\n",
       "        [  0.4539,   0.7986,   0.4881,  ...,  -1.3492,  -4.3032, -10.9762],\n",
       "        [  0.8518,   0.3995,   0.7480,  ...,  -5.5047,  -1.7420, -18.4515],\n",
       "        ...,\n",
       "        [  0.6257,   0.2672,   0.2917,  ...,  -7.9174,  -7.3919,  -0.0766],\n",
       "        [  0.8363,   0.3002,   0.6717,  ...,  -7.2195,  -2.3877,  -5.3574],\n",
       "        [  0.6289,   0.1073,   0.0455,  ..., -13.3954, -18.5445, -14.3672]],\n",
       "       dtype=torch.float64)"
      ]
     },
     "execution_count": 39,
     "metadata": {},
     "output_type": "execute_result"
    }
   ],
   "source": [
    "# заметим, что мы сразу получаем торчовый формат данных\n",
    "x"
   ]
  },
  {
   "cell_type": "code",
   "execution_count": 40,
   "metadata": {},
   "outputs": [
    {
     "data": {
      "text/plain": [
       "tensor([2, 1, 1, 2, 1, 1, 1, 1, 2, 2, 0, 2, 0, 2, 1, 1, 1, 0, 2, 0, 0, 0, 1, 0,\n",
       "        2, 1, 2, 2, 0, 1, 1, 2, 1, 0, 1, 0, 2, 0, 2, 2, 1, 0, 1, 1, 0, 1, 0, 1,\n",
       "        1, 2, 0, 0, 0, 2, 0, 0, 1, 1, 1, 0, 2, 1, 0, 1, 0, 2, 1, 1, 1, 1, 1, 0,\n",
       "        1, 2, 1, 2, 0, 2, 1, 0, 2, 2, 0, 1, 2, 2, 1, 1, 2, 0, 1, 2, 1, 1, 0, 1,\n",
       "        2, 2, 1, 2, 1, 2, 2, 1, 0, 1, 2, 2, 2, 2, 1, 0, 2, 2, 1, 2, 2, 2, 2, 1,\n",
       "        0, 1, 0, 2, 2, 0, 1, 0], dtype=torch.int32)"
      ]
     },
     "execution_count": 40,
     "metadata": {},
     "output_type": "execute_result"
    }
   ],
   "source": [
    "y"
   ]
  },
  {
   "cell_type": "markdown",
   "metadata": {},
   "source": [
    "# Если вы ничего здесь не понимаете, то вернитесь в конец первой домашки, там все объясняется"
   ]
  },
  {
   "cell_type": "code",
   "execution_count": 41,
   "metadata": {},
   "outputs": [],
   "source": [
    "model = torch.nn.Sequential(torch.nn.Linear(32, 16),\n",
    "                            torch.nn.ReLU(),\n",
    "                            torch.nn.Linear(16, 8),\n",
    "                            torch.nn.ReLU(),\n",
    "                            torch.nn.Linear(8, 3))\n",
    "\n",
    "criterion = torch.nn.CrossEntropyLoss()"
   ]
  },
  {
   "cell_type": "code",
   "execution_count": 42,
   "metadata": {},
   "outputs": [
    {
     "data": {
      "text/plain": [
       "1.1756023168563843"
      ]
     },
     "execution_count": 42,
     "metadata": {},
     "output_type": "execute_result"
    }
   ],
   "source": [
    "with torch.no_grad():\n",
    "\n",
    "    prediction = model(x.float())\n",
    "    \n",
    "    loss = criterion(prediction, y.long())\n",
    "    \n",
    "loss.item()"
   ]
  },
  {
   "cell_type": "markdown",
   "metadata": {},
   "source": [
    "# Боевые датасеты"
   ]
  },
  {
   "cell_type": "code",
   "execution_count": 43,
   "metadata": {},
   "outputs": [],
   "source": [
    "class CBOWDataset(Dataset):\n",
    "\n",
    "    def __init__(self,\n",
    "                 corpus,\n",
    "                 word2index,\n",
    "                 window=2,\n",
    "                 unk_token='UNK',\n",
    "                 pad_token='PAD',\n",
    "                 collect_verbose=True):\n",
    "\n",
    "        self.corpus = corpus\n",
    "        self.word2index = word2index\n",
    "        self.index2word = {value: key for key, value in self.word2index.items()}\n",
    "        self.window = window\n",
    "\n",
    "        self.unk_token = unk_token\n",
    "        self.unk_index = self.word2index[self.unk_token]\n",
    "\n",
    "        self.pad_token = pad_token\n",
    "        self.pad_index = len(self.word2index)\n",
    "\n",
    "        self.collect_verbose = collect_verbose\n",
    "\n",
    "        self.data = []\n",
    "\n",
    "        self.collect_data()\n",
    "\n",
    "    def __len__(self):\n",
    "\n",
    "        return len(self.data)\n",
    "\n",
    "    def _split_function(self, tokenized_text):\n",
    "\n",
    "        splits = []\n",
    "\n",
    "        for n in range(len(tokenized_text)):\n",
    "            left_context = tokenized_text[np.maximum(n - self.window, 0):n]\n",
    "            left_context = ([self.pad_index] * (self.window - len(left_context))) + left_context\n",
    "\n",
    "            central_word = tokenized_text[n]\n",
    "\n",
    "            right_context = tokenized_text[n + 1:n + self.window + 1]\n",
    "            right_context = right_context + ([self.pad_index] * (self.window - len(right_context)))\n",
    "\n",
    "            splits.append((left_context + right_context, central_word))\n",
    "\n",
    "        return splits\n",
    "\n",
    "    def indexing(self, tokenized_text):\n",
    "\n",
    "        return [self.word2index[token] if token in self.word2index else self.unk_index for token in tokenized_text]\n",
    "\n",
    "    def collect_data(self):\n",
    "\n",
    "        corpus = tqdm(self.corpus, disable=not self.collect_verbose)\n",
    "\n",
    "        for tokenized_text in corpus:\n",
    "            indexed_text = self.indexing(tokenized_text)\n",
    "            cbow_examples = self._split_function(indexed_text)\n",
    "\n",
    "            self.data.extend(cbow_examples)\n",
    "\n",
    "    def __getitem__(self, idx):\n",
    "\n",
    "        context, central_word = self.data[idx]\n",
    "\n",
    "        context = torch.Tensor(context).long()\n",
    "\n",
    "        return context, central_word"
   ]
  },
  {
   "cell_type": "markdown",
   "metadata": {},
   "source": [
    "# Мы будем учить модель Skipgram\n",
    "Реализуйте читалку данных"
   ]
  },
  {
   "cell_type": "code",
   "execution_count": 44,
   "metadata": {},
   "outputs": [],
   "source": [
    "class SkipgramDataset(Dataset):\n",
    "\n",
    "    def __init__(self,\n",
    "                 corpus,\n",
    "                 word2index,\n",
    "                 window=2,\n",
    "                 unk_token='UNK',\n",
    "                 collect_verbose=True):\n",
    "\n",
    "        self.corpus = corpus\n",
    "        self.word2index = word2index\n",
    "        self.index2word = {value: key for key, value in self.word2index.items()}\n",
    "        self.window = window\n",
    "\n",
    "        self.unk_token = unk_token\n",
    "        self.unk_index = self.word2index[self.unk_token]\n",
    "\n",
    "        #self.pad_token = pad_token\n",
    "        #self.pad_index = len(self.word2index)\n",
    "\n",
    "        self.collect_verbose = collect_verbose\n",
    "\n",
    "        self.data = []\n",
    "\n",
    "        self.collect_data()\n",
    "\n",
    "    def __len__(self):\n",
    "\n",
    "        return len(self.data)\n",
    "\n",
    "    def _split_function(self, tokenized_text):\n",
    "        \n",
    "        # CODE\n",
    "        \n",
    "        # вставить здесь функцию, которые вы писали раньше    \n",
    "        splits = []\n",
    "\n",
    "        for i, token in enumerate(tokenized_text):\n",
    "            if i-1 >= 0:\n",
    "                splits.append([tokenized_text[i-1], token])\n",
    "            if i-2 >= 0:\n",
    "                splits.append([tokenized_text[i-2], token])\n",
    "            if i+1 < len(tokenized_text):\n",
    "                splits.append([tokenized_text[i+1], token])\n",
    "            if i+2 < len(tokenized_text):\n",
    "                splits.append([tokenized_text[i+2], token])\n",
    "\n",
    "        return splits\n",
    "\n",
    "    def indexing(self, tokenized_text):\n",
    "\n",
    "        return [self.word2index[token] if token in self.word2index else self.unk_index for token in tokenized_text]\n",
    "\n",
    "    def collect_data(self):\n",
    "\n",
    "        corpus = tqdm(self.corpus, disable=not self.collect_verbose)\n",
    "\n",
    "        for tokenized_text in corpus:\n",
    "            indexed_text = self.indexing(tokenized_text)\n",
    "            skipgram_examples = self._split_function(indexed_text)\n",
    "\n",
    "            self.data.extend(skipgram_examples)\n",
    "\n",
    "    def __getitem__(self, idx):\n",
    "        \n",
    "        # CODE\n",
    "        context, central_word = self.data[idx]\n",
    "\n",
    "        return context, central_word"
   ]
  },
  {
   "cell_type": "code",
   "execution_count": 45,
   "metadata": {},
   "outputs": [],
   "source": [
    "# можете положить SkipgramDataset в отдельный файлик, например word2vec_utils и относительным импортом достать его \n",
    "#from .word2vec_utils import SkipgramDataset"
   ]
  },
  {
   "cell_type": "code",
   "execution_count": 46,
   "metadata": {
    "scrolled": true
   },
   "outputs": [
    {
     "name": "stderr",
     "output_type": "stream",
     "text": [
      "100%|████████████████████████████████████████████████████████████████████| 100000/100000 [00:01<00:00, 53269.34it/s]\n"
     ]
    }
   ],
   "source": [
    "dataset = SkipgramDataset(corpus, word2index)"
   ]
  },
  {
   "cell_type": "code",
   "execution_count": 47,
   "metadata": {},
   "outputs": [],
   "source": [
    "BATCH_SIZE = 512"
   ]
  },
  {
   "cell_type": "code",
   "execution_count": 48,
   "metadata": {},
   "outputs": [],
   "source": [
    "dataset_loader = DataLoader(dataset, shuffle=True, batch_size=BATCH_SIZE)"
   ]
  },
  {
   "cell_type": "code",
   "execution_count": 49,
   "metadata": {},
   "outputs": [],
   "source": [
    "for x, y in dataset_loader:\n",
    "    break"
   ]
  },
  {
   "cell_type": "code",
   "execution_count": 50,
   "metadata": {},
   "outputs": [
    {
     "data": {
      "text/plain": [
       "tensor([ 555, 3324, 1829,  143,  252])"
      ]
     },
     "execution_count": 50,
     "metadata": {},
     "output_type": "execute_result"
    }
   ],
   "source": [
    "x[:5]"
   ]
  },
  {
   "cell_type": "code",
   "execution_count": 51,
   "metadata": {},
   "outputs": [
    {
     "data": {
      "text/plain": [
       "tensor([  48, 2594,  302,   84,   25])"
      ]
     },
     "execution_count": 51,
     "metadata": {},
     "output_type": "execute_result"
    }
   ],
   "source": [
    "y[:5]"
   ]
  },
  {
   "cell_type": "code",
   "execution_count": 52,
   "metadata": {},
   "outputs": [
    {
     "data": {
      "text/plain": [
       "(torch.Size([512]), torch.Size([512]))"
      ]
     },
     "execution_count": 52,
     "metadata": {},
     "output_type": "execute_result"
    }
   ],
   "source": [
    "x.shape, y.shape"
   ]
  },
  {
   "cell_type": "code",
   "execution_count": 53,
   "metadata": {},
   "outputs": [],
   "source": [
    "class CBOW(torch.nn.Module):\n",
    "    \n",
    "    def __init__(self, vocab_size, embedding_dim, pad_index):\n",
    "        \n",
    "        super().__init__()\n",
    "        \n",
    "        if pad_index > 0:\n",
    "            vocab_size += 1\n",
    "        \n",
    "        self.in_embedding = torch.nn.Embedding(num_embeddings=vocab_size, \n",
    "                                               embedding_dim=embedding_dim,\n",
    "                                               padding_idx=pad_index)\n",
    "        \n",
    "        self.out_embedding = torch.nn.Linear(in_features=embedding_dim,\n",
    "                                             out_features=vocab_size, bias=False)\n",
    "        \n",
    "    def forward(self, x):\n",
    "        \n",
    "        x = self.in_embedding(x).sum(dim=-2)\n",
    "        x = self.out_embedding(x)\n",
    "        \n",
    "        return x"
   ]
  },
  {
   "cell_type": "markdown",
   "metadata": {},
   "source": [
    "# Мы будем учить модель Skipgram\n",
    "Реализуйте ее"
   ]
  },
  {
   "cell_type": "code",
   "execution_count": null,
   "metadata": {},
   "outputs": [],
   "source": []
  },
  {
   "cell_type": "code",
   "execution_count": 54,
   "metadata": {},
   "outputs": [],
   "source": [
    "# CODE\n",
    "class SkipGram(torch.nn.Module):\n",
    "    \n",
    "    def __init__(self, vocab_size, embedding_dim):\n",
    "        \n",
    "        super().__init__()\n",
    "        \n",
    "        \n",
    "        self.in_embedding = torch.nn.Embedding(num_embeddings=vocab_size, \n",
    "                                               embedding_dim=embedding_dim)\n",
    "        \n",
    "        self.out_embedding = torch.nn.Linear(in_features=embedding_dim,\n",
    "                                             out_features=vocab_size, bias=False)\n",
    "        \n",
    "    def forward(self, x):\n",
    "        \n",
    "        x = self.in_embedding(x)\n",
    "        x = self.out_embedding(x)\n",
    "        \n",
    "        return x"
   ]
  },
  {
   "cell_type": "markdown",
   "metadata": {},
   "source": [
    "# замена параметров"
   ]
  },
  {
   "cell_type": "code",
   "execution_count": 55,
   "metadata": {},
   "outputs": [],
   "source": [
    "#from word2vec_utils import SkipGram"
   ]
  },
  {
   "cell_type": "code",
   "execution_count": 56,
   "metadata": {},
   "outputs": [],
   "source": [
    "# размерность эмбеддинга\n",
    "# маленькая, чтобы мы могли недолго поучить ворд2век и увидеть результаты\n",
    "EMBEDDING_DIM = 50"
   ]
  },
  {
   "cell_type": "code",
   "execution_count": 57,
   "metadata": {},
   "outputs": [],
   "source": [
    "model = SkipGram(vocab_size=len(word2index), embedding_dim=EMBEDDING_DIM)"
   ]
  },
  {
   "cell_type": "code",
   "execution_count": 58,
   "metadata": {},
   "outputs": [
    {
     "data": {
      "text/plain": [
       "torch.Size([512, 13076])"
      ]
     },
     "execution_count": 58,
     "metadata": {},
     "output_type": "execute_result"
    }
   ],
   "source": [
    "with torch.no_grad():\n",
    "    pred = model(x)\n",
    "\n",
    "pred.shape"
   ]
  },
  {
   "cell_type": "code",
   "execution_count": 59,
   "metadata": {},
   "outputs": [],
   "source": [
    "optimizer = torch.optim.Adam(params=model.parameters(), lr=0.0002)\n",
    "\n",
    "# aka loss function\n",
    "criterion = torch.nn.CrossEntropyLoss()"
   ]
  },
  {
   "cell_type": "markdown",
   "metadata": {},
   "source": [
    "# Допишите обучалку"
   ]
  },
  {
   "cell_type": "code",
   "execution_count": 61,
   "metadata": {
    "scrolled": true
   },
   "outputs": [
    {
     "name": "stderr",
     "output_type": "stream",
     "text": [
      "Epoch 1: 100%|███████████████████████████████████████████████| 2983124/2983124 [18:33<00:00, 2678.07it/s, loss=7.31]\n",
      "Epoch 2: 100%|███████████████████████████████████████████████| 2983124/2983124 [18:07<00:00, 2742.70it/s, loss=7.43]\n"
     ]
    }
   ],
   "source": [
    "epochs = 2\n",
    "\n",
    "losses = []\n",
    "\n",
    "for n_epoch in range(epochs):\n",
    "\n",
    "    try:\n",
    "\n",
    "        progress_bar = tqdm(total=len(dataset_loader.dataset), desc='Epoch {}'.format(n_epoch + 1))\n",
    "\n",
    "        for x, y in dataset_loader:\n",
    "\n",
    "            # CODE\n",
    "            prediction = model(x)\n",
    "\n",
    "            loss = criterion(prediction, y)\n",
    "            \n",
    "            loss.backward()\n",
    "        \n",
    "            optimizer.step()\n",
    "\n",
    "\n",
    "            # CODE\n",
    "            \n",
    "            losses.append(loss.item())\n",
    "              \n",
    "            progress_bar.set_postfix(loss=np.mean(losses[-100:]))\n",
    "\n",
    "            progress_bar.update(x.shape[0])\n",
    "\n",
    "        progress_bar.close()\n",
    "\n",
    "    except KeyboardInterrupt:\n",
    "\n",
    "        progress_bar.close()\n",
    "        break"
   ]
  },
  {
   "cell_type": "code",
   "execution_count": 62,
   "metadata": {},
   "outputs": [
    {
     "data": {
      "text/plain": [
       "[<matplotlib.lines.Line2D at 0x26899577040>]"
      ]
     },
     "execution_count": 62,
     "metadata": {},
     "output_type": "execute_result"
    },
    {
     "data": {
      "image/png": "[encoded data removed]",
      "text/plain": [
       "<Figure size 1080x1080 with 1 Axes>"
      ]
     },
     "metadata": {
      "needs_background": "light"
     },
     "output_type": "display_data"
    }
   ],
   "source": [
    "plt.title('SkipGram Training Process')\n",
    "plt.xlabel('Itearations')\n",
    "plt.ylabel('Loss')\n",
    "plt.grid()\n",
    "plt.plot(losses)"
   ]
  },
  {
   "cell_type": "code",
   "execution_count": 63,
   "metadata": {},
   "outputs": [],
   "source": [
    "# проверка, что хоть что-то выучилось\n",
    "assert np.mean(losses[-1000:]) < 7.5"
   ]
  },
  {
   "cell_type": "code",
   "execution_count": 64,
   "metadata": {},
   "outputs": [],
   "source": [
    "embedding_matrix = model.in_embedding.weight.detach()"
   ]
  },
  {
   "cell_type": "code",
   "execution_count": 65,
   "metadata": {},
   "outputs": [],
   "source": [
    "def cos_sim(embedding_matrix, token2id, word1, word2):\n",
    "    \n",
    "    i1 = token2id[word1]\n",
    "    i2 = token2id[word2]\n",
    "    \n",
    "    v1, v2 = embedding_matrix[i1], embedding_matrix[i2]\n",
    "    \n",
    "    v1_n = v1.div(v1.norm(keepdim=True))\n",
    "    v2_n = v2.div(v2.norm(keepdim=True))\n",
    "    \n",
    "    similarity = torch.dot(v1_n, v2_n).item()\n",
    "    \n",
    "    return similarity"
   ]
  },
  {
   "cell_type": "markdown",
   "metadata": {},
   "source": [
    "# Косинусная близость\n",
    "От 0 до 1, где 0 - вектора абсолютно разные, где 1 - идентичные."
   ]
  },
  {
   "cell_type": "code",
   "execution_count": 66,
   "metadata": {},
   "outputs": [
    {
     "data": {
      "text/plain": [
       "0.6106307506561279"
      ]
     },
     "execution_count": 66,
     "metadata": {},
     "output_type": "execute_result"
    }
   ],
   "source": [
    "cos_sim(embedding_matrix, word2index, 'день', 'месяц')"
   ]
  },
  {
   "cell_type": "code",
   "execution_count": 67,
   "metadata": {},
   "outputs": [
    {
     "data": {
      "text/plain": [
       "0.5790777802467346"
      ]
     },
     "execution_count": 67,
     "metadata": {},
     "output_type": "execute_result"
    }
   ],
   "source": [
    "cos_sim(embedding_matrix, word2index, 'минута', 'месяц')"
   ]
  },
  {
   "cell_type": "code",
   "execution_count": 68,
   "metadata": {},
   "outputs": [
    {
     "data": {
      "text/plain": [
       "0.628949761390686"
      ]
     },
     "execution_count": 68,
     "metadata": {},
     "output_type": "execute_result"
    }
   ],
   "source": [
    "cos_sim(embedding_matrix, word2index, 'сотрудник', 'сотрудница')"
   ]
  },
  {
   "cell_type": "code",
   "execution_count": 69,
   "metadata": {},
   "outputs": [
    {
     "data": {
      "text/plain": [
       "0.48628175258636475"
      ]
     },
     "execution_count": 69,
     "metadata": {},
     "output_type": "execute_result"
    }
   ],
   "source": [
    "cos_sim(embedding_matrix, word2index, 'вклад', 'перевод')"
   ]
  },
  {
   "cell_type": "code",
   "execution_count": 69,
   "metadata": {},
   "outputs": [
    {
     "data": {
      "text/plain": [
       "'Косинусная близость слова \"день\" к случайному выбраному слову \"космический\" равна 0.443'"
      ]
     },
     "execution_count": 69,
     "metadata": {},
     "output_type": "execute_result"
    }
   ],
   "source": [
    "random_word = random.choice(list(word2index.keys()))\n",
    "sim = cos_sim(embedding_matrix, word2index, 'день', random_word)\n",
    "'Косинусная близость слова \"день\" к случайному выбраному слову \"{}\" равна {:.3f}'.format(random_word, sim)"
   ]
  },
  {
   "cell_type": "code",
   "execution_count": 70,
   "metadata": {},
   "outputs": [],
   "source": [
    "freq = {}\n",
    "\n",
    "for text in corpus:\n",
    "    for token in text:\n",
    "        if token in freq:\n",
    "            freq[token] += 1\n",
    "        else:\n",
    "            freq[token] = 1"
   ]
  },
  {
   "cell_type": "code",
   "execution_count": 78,
   "metadata": {},
   "outputs": [],
   "source": [
    "sorted_freq = [(k, freq[k]) for k in sorted(freq, key=freq.get, reverse=True)]\n",
    "top_sorted_freq = sorted_freq[0:200]"
   ]
  },
  {
   "cell_type": "code",
   "execution_count": 79,
   "metadata": {},
   "outputs": [
    {
     "name": "stderr",
     "output_type": "stream",
     "text": [
      "C:\\Users\\veron\\Anaconda3\\envs\\main\\lib\\site-packages\\sklearn\\manifold\\_t_sne.py:790: FutureWarning: The default learning rate in TSNE will change from 200.0 to 'auto' in 1.2.\n",
      "  warnings.warn(\n"
     ]
    },
    {
     "name": "stdout",
     "output_type": "stream",
     "text": [
      "[t-SNE] Computing 91 nearest neighbors...\n",
      "[t-SNE] Indexed 13076 samples in 0.008s...\n",
      "[t-SNE] Computed neighbors for 13076 samples in 6.955s...\n",
      "[t-SNE] Computed conditional probabilities for sample 1000 / 13076\n",
      "[t-SNE] Computed conditional probabilities for sample 2000 / 13076\n",
      "[t-SNE] Computed conditional probabilities for sample 3000 / 13076\n",
      "[t-SNE] Computed conditional probabilities for sample 4000 / 13076\n",
      "[t-SNE] Computed conditional probabilities for sample 5000 / 13076\n",
      "[t-SNE] Computed conditional probabilities for sample 6000 / 13076\n",
      "[t-SNE] Computed conditional probabilities for sample 7000 / 13076\n",
      "[t-SNE] Computed conditional probabilities for sample 8000 / 13076\n",
      "[t-SNE] Computed conditional probabilities for sample 9000 / 13076\n",
      "[t-SNE] Computed conditional probabilities for sample 10000 / 13076\n",
      "[t-SNE] Computed conditional probabilities for sample 11000 / 13076\n",
      "[t-SNE] Computed conditional probabilities for sample 12000 / 13076\n",
      "[t-SNE] Computed conditional probabilities for sample 13000 / 13076\n",
      "[t-SNE] Computed conditional probabilities for sample 13076 / 13076\n",
      "[t-SNE] Mean sigma: 1.034195\n",
      "[t-SNE] Computed conditional probabilities in 0.743s\n"
     ]
    },
    {
     "name": "stderr",
     "output_type": "stream",
     "text": [
      "C:\\Users\\veron\\Anaconda3\\envs\\main\\lib\\site-packages\\sklearn\\manifold\\_t_sne.py:982: FutureWarning: The PCA initialization in TSNE will change to have the standard deviation of PC1 equal to 1e-4 in 1.2. This will ensure better convergence.\n",
      "  warnings.warn(\n"
     ]
    },
    {
     "name": "stdout",
     "output_type": "stream",
     "text": [
      "[t-SNE] Iteration 50: error = 96.9978561, gradient norm = 0.0000996 (50 iterations in 7.707s)\n",
      "[t-SNE] Iteration 100: error = 97.0130692, gradient norm = 0.0000135 (50 iterations in 5.086s)\n",
      "[t-SNE] Iteration 150: error = 97.0130692, gradient norm = 0.0000106 (50 iterations in 4.813s)\n",
      "[t-SNE] Iteration 200: error = 97.0130844, gradient norm = 0.0000154 (50 iterations in 4.916s)\n",
      "[t-SNE] Iteration 250: error = 97.0130768, gradient norm = 0.0000496 (50 iterations in 4.900s)\n",
      "[t-SNE] KL divergence after 250 iterations with early exaggeration: 97.013077\n",
      "[t-SNE] Iteration 300: error = 4.7423210, gradient norm = 0.0014703 (50 iterations in 5.732s)\n",
      "[t-SNE] Iteration 350: error = 4.2034392, gradient norm = 0.0005274 (50 iterations in 5.986s)\n",
      "[t-SNE] Iteration 400: error = 4.0807724, gradient norm = 0.0002959 (50 iterations in 5.409s)\n",
      "[t-SNE] Iteration 450: error = 4.0029988, gradient norm = 0.0002118 (50 iterations in 5.375s)\n",
      "[t-SNE] Iteration 500: error = 3.9466627, gradient norm = 0.0001634 (50 iterations in 5.248s)\n",
      "[t-SNE] Iteration 550: error = 3.9037793, gradient norm = 0.0001279 (50 iterations in 5.281s)\n",
      "[t-SNE] Iteration 600: error = 3.8693991, gradient norm = 0.0001049 (50 iterations in 5.309s)\n",
      "[t-SNE] Iteration 650: error = 3.8410153, gradient norm = 0.0000884 (50 iterations in 5.374s)\n",
      "[t-SNE] Iteration 700: error = 3.8173187, gradient norm = 0.0000764 (50 iterations in 5.255s)\n",
      "[t-SNE] Iteration 750: error = 3.7971911, gradient norm = 0.0000654 (50 iterations in 5.304s)\n",
      "[t-SNE] Iteration 800: error = 3.7799170, gradient norm = 0.0000580 (50 iterations in 5.282s)\n",
      "[t-SNE] Iteration 850: error = 3.7652140, gradient norm = 0.0000545 (50 iterations in 5.369s)\n",
      "[t-SNE] Iteration 900: error = 3.7525537, gradient norm = 0.0000478 (50 iterations in 5.518s)\n",
      "[t-SNE] Iteration 950: error = 3.7413454, gradient norm = 0.0000436 (50 iterations in 5.558s)\n",
      "[t-SNE] Iteration 1000: error = 3.7315149, gradient norm = 0.0000398 (50 iterations in 5.518s)\n",
      "[t-SNE] KL divergence after 1000 iterations: 3.731515\n"
     ]
    }
   ],
   "source": [
    "tsne = TSNE(n_components=2, init='pca', random_state=42, verbose=2)\n",
    "reduced = tsne.fit_transform(embedding_matrix)"
   ]
  },
  {
   "cell_type": "code",
   "execution_count": 80,
   "metadata": {},
   "outputs": [],
   "source": [
    "top_words = [a for a,_ in top_sorted_freq]"
   ]
  },
  {
   "cell_type": "code",
   "execution_count": 81,
   "metadata": {},
   "outputs": [],
   "source": [
    "inds = [word2index[word] for word in top_words]\n",
    "x_coords = [coords[0] for coords in reduced[inds]]\n",
    "y_coords = [coords[1] for coords in reduced[inds]]"
   ]
  },
  {
   "cell_type": "code",
   "execution_count": 82,
   "metadata": {},
   "outputs": [
    {
     "data": {
      "image/png": "[encoded data removed]",
      "text/plain": [
       "<Figure size 1080x1080 with 1 Axes>"
      ]
     },
     "metadata": {
      "needs_background": "light"
     },
     "output_type": "display_data"
    }
   ],
   "source": [
    "for (x, y, word) in zip(x_coords, y_coords, top_words):\n",
    "    plt.scatter(x, y, marker='.', color='blue')\n",
    "    plt.text(x+0.01, y+0.01, word, fontsize=9)\n",
    "plt.show()"
   ]
  },
  {
   "cell_type": "code",
   "execution_count": null,
   "metadata": {},
   "outputs": [],
   "source": []
  },
  {
   "cell_type": "markdown",
   "metadata": {},
   "source": [
    "# Оценка\n",
    "1. Вы добрались сюда и все работает, значит уже получили 7 баллов.\n",
    "2. 8 баллов - Взяли корпус для оценка качества эмбеддингов [здесь](https://rusvectores.org/static/testsets/ru_simlex965_tagged.tsv). Описание к нему [здесь](https://arxiv.org/pdf/1801.06407.pdf). Его английская версия для понимания, того что же это такое [тут](https://fh295.github.io/simlex.html). Если в кратце - он похож а гугл аналогии, просто иначе составлен. Определили качество своих эмбеддингов. Как качество измерить? Можете все значения отнормировать (привести к 1) и затем считать MSE между тем что у вас и что в оригинале.\n",
    "3. 9 баллов - Поставили эксперименты, поменяли любые параметры, хоть корпус увеличили или как то почистили. Показали метрики до и после. После должно быть лучше, иначе это все еще 8 баллов.\n",
    "4. 10 баллов - удивили своим подходом (или просто удивили) пока делили на 9 баллов"
   ]
  },
  {
   "cell_type": "code",
   "execution_count": 70,
   "metadata": {
    "pycharm": {
     "name": "#%%\n"
    }
   },
   "outputs": [],
   "source": [
    "with open('data/ru_simlex965_tagged.tsv', 'r', encoding='utf8') as f:\n",
    "    tags_tsv = f.read()\n",
    "    \n",
    "words1 = []\n",
    "words2 = []\n",
    "scores_gold = []\n",
    "\n",
    "for s in tags_tsv.split('\\n')[1:-1]:\n",
    "    s = s.split('\\t')\n",
    "    words1.append(s[0])\n",
    "    words2.append(s[1])\n",
    "    scores_gold.append(float(s[2]))"
   ]
  },
  {
   "cell_type": "code",
   "execution_count": 71,
   "metadata": {},
   "outputs": [],
   "source": [
    "our_scores = []\n",
    "gold_clean_scores = []\n",
    "errors = []\n",
    "for i, word in enumerate(words1):\n",
    "    try:\n",
    "        our_scores.append(cos_sim(embedding_matrix, word2index, word.split('_')[0], words2[i].split('_')[0]))\n",
    "        gold_clean_scores.append(scores_gold[i])\n",
    "    except:\n",
    "        errors.append((word.split('_')[0], words2[i].split('_')[0]))"
   ]
  },
  {
   "cell_type": "code",
   "execution_count": 72,
   "metadata": {},
   "outputs": [
    {
     "data": {
      "text/plain": [
       "467"
      ]
     },
     "execution_count": 72,
     "metadata": {},
     "output_type": "execute_result"
    }
   ],
   "source": [
    "len(errors)"
   ]
  },
  {
   "cell_type": "code",
   "execution_count": 73,
   "metadata": {},
   "outputs": [
    {
     "data": {
      "text/plain": [
       "498"
      ]
     },
     "execution_count": 73,
     "metadata": {},
     "output_type": "execute_result"
    }
   ],
   "source": [
    "len(our_scores)"
   ]
  },
  {
   "cell_type": "code",
   "execution_count": 74,
   "metadata": {},
   "outputs": [
    {
     "data": {
      "text/plain": [
       "498"
      ]
     },
     "execution_count": 74,
     "metadata": {},
     "output_type": "execute_result"
    }
   ],
   "source": [
    "len(gold_clean_scores)"
   ]
  },
  {
   "cell_type": "markdown",
   "metadata": {},
   "source": [
    "ура"
   ]
  },
  {
   "cell_type": "markdown",
   "metadata": {},
   "source": [
    "### Давайте отнормируем всё разными способами"
   ]
  },
  {
   "cell_type": "code",
   "execution_count": 75,
   "metadata": {},
   "outputs": [],
   "source": [
    "from sklearn import preprocessing\n",
    "from sklearn.metrics import mean_absolute_error"
   ]
  },
  {
   "cell_type": "code",
   "execution_count": 76,
   "metadata": {},
   "outputs": [],
   "source": [
    "gold_norm = preprocessing.normalize(np.array([gold_clean_scores]))\n",
    "our_norm = preprocessing.normalize(np.array([our_scores]))"
   ]
  },
  {
   "cell_type": "code",
   "execution_count": 77,
   "metadata": {},
   "outputs": [
    {
     "data": {
      "text/plain": [
       "0.027703205404204942"
      ]
     },
     "execution_count": 77,
     "metadata": {},
     "output_type": "execute_result"
    }
   ],
   "source": [
    "mean_absolute_error(gold_norm, our_norm)"
   ]
  },
  {
   "cell_type": "code",
   "execution_count": 78,
   "metadata": {},
   "outputs": [],
   "source": [
    "def norm_data(x):\n",
    "    result = []\n",
    "    max_x = max(x)\n",
    "    min_x = min(x)\n",
    "    for el in x:\n",
    "        result.append((el - min_x)/(max_x - min_x))\n",
    "    return result"
   ]
  },
  {
   "cell_type": "code",
   "execution_count": 79,
   "metadata": {},
   "outputs": [],
   "source": [
    "gold_norm = preprocessing.normalize(np.array([gold_clean_scores]))\n",
    "our_norm = preprocessing.normalize(np.array([our_scores]))"
   ]
  },
  {
   "cell_type": "code",
   "execution_count": 80,
   "metadata": {},
   "outputs": [
    {
     "data": {
      "text/plain": [
       "0.3099691067536356"
      ]
     },
     "execution_count": 80,
     "metadata": {},
     "output_type": "execute_result"
    }
   ],
   "source": [
    "mean_absolute_error(norm_data(gold_clean_scores), norm_data(our_scores))"
   ]
  },
  {
   "cell_type": "code",
   "execution_count": 84,
   "metadata": {},
   "outputs": [],
   "source": [
    "from sklearn.preprocessing import MinMaxScaler"
   ]
  },
  {
   "cell_type": "code",
   "execution_count": 85,
   "metadata": {},
   "outputs": [],
   "source": [
    "scaler = MinMaxScaler(feature_range=(0, 1))\n",
    "gold_norm = scaler.fit_transform(np.array(gold_clean_scores).reshape(-1, 1))\n",
    "scaler = MinMaxScaler(feature_range=(0, 1))\n",
    "our_norm = scaler.fit_transform(np.array(our_scores).reshape(-1, 1))"
   ]
  },
  {
   "cell_type": "code",
   "execution_count": 86,
   "metadata": {},
   "outputs": [
    {
     "data": {
      "text/plain": [
       "0.30996910675363565"
      ]
     },
     "execution_count": 86,
     "metadata": {},
     "output_type": "execute_result"
    }
   ],
   "source": [
    "mean_absolute_error(gold_norm, our_norm)"
   ]
  },
  {
   "cell_type": "markdown",
   "metadata": {},
   "source": [
    "## Улучшения"
   ]
  },
  {
   "cell_type": "markdown",
   "metadata": {},
   "source": [
    "Почему всё плохо сравнивается с этой моделью? Потому что у нас половины слов из этой модели нет в нашей модели. Возможно, корпуса у нас разной направленности и контексты могут отличаться. Да и оценивем мы модель, обученную на корпусе на банковскую тему, по относительно абстрактным словам из разных семантических полей. Так что давайте попробуем больше эмбеддинг, больше learning_rate и меньше эпох"
   ]
  },
  {
   "cell_type": "markdown",
   "metadata": {},
   "source": [
    "Чисто технически -- сработало. Было 0.37, стало 0.30. По графику лоссов -- надо тюнить"
   ]
  },
  {
   "cell_type": "code",
   "execution_count": 219,
   "metadata": {},
   "outputs": [
    {
     "data": {
      "text/plain": [
       "[('авария', 'бедствие'),\n",
       " ('авиация', 'полет'),\n",
       " ('автомобиль', 'автострада'),\n",
       " ('автомобиль', 'датчик'),\n",
       " ('автомобиль', 'карета'),\n",
       " ('автомобиль', 'подъемник'),\n",
       " ('автомобиль', 'шланг'),\n",
       " ('автотранспорт', 'автобус'),\n",
       " ('агрессивность', 'враждебность'),\n",
       " ('актер', 'певец'),\n",
       " ('актриса', 'актер'),\n",
       " ('алкоголь', 'бренди'),\n",
       " ('алкоголь', 'джин'),\n",
       " ('алкоголь', 'коктейль'),\n",
       " ('алкоголь', 'виски'),\n",
       " ('алкоголь', 'вино'),\n",
       " ('анархия', 'хаос'),\n",
       " ('анатомия', 'биология'),\n",
       " ('армия', 'легион'),\n",
       " ('армия', 'отряд'),\n",
       " ('архиепископ', 'епископ'),\n",
       " ('атом', 'углерод'),\n",
       " ('баллада', 'песня'),\n",
       " ('банка', 'бутылка'),\n",
       " ('баскетбол', 'бейсбол'),\n",
       " ('башня', 'колокол'),\n",
       " ('бедро', 'губа'),\n",
       " ('бекон', 'боб'),\n",
       " ('берег', 'побережье'),\n",
       " ('библия', 'псалом'),\n",
       " ('биография', 'роман'),\n",
       " ('битва', 'завоевание'),\n",
       " ('боб', 'кофе'),\n",
       " ('бог', 'дьявол'),\n",
       " ('бог', 'священник'),\n",
       " ('богатство', 'бедность'),\n",
       " ('богатство', 'репутация'),\n",
       " ('богатство', 'слава'),\n",
       " ('болезнь', 'инфекция'),\n",
       " ('большой', 'тяжелый'),\n",
       " ('братство', 'дверь'),\n",
       " ('братство', 'бейсбол'),\n",
       " ('брать', 'завладевать'),\n",
       " ('бревно', 'древесина'),\n",
       " ('бревно', 'ванна'),\n",
       " ('бровь', 'глаз'),\n",
       " ('брюшко', 'живот'),\n",
       " ('бумага', 'картон'),\n",
       " ('буря', 'ураган'),\n",
       " ('бутерброд', 'обед'),\n",
       " ('бутылка', 'контейнер'),\n",
       " ('ванна', 'шалость'),\n",
       " ('ванна', 'жена'),\n",
       " ('ванна', 'шар'),\n",
       " ('ванная', 'спальня'),\n",
       " ('велосипед', 'спальня'),\n",
       " ('верование', 'мнение'),\n",
       " ('верование', 'представление'),\n",
       " ('вечер', 'сумерки'),\n",
       " ('вино', 'бренди'),\n",
       " ('вино', 'спиртное'),\n",
       " ('виски', 'джин'),\n",
       " ('виски', 'шампанское'),\n",
       " ('витамин', 'железо'),\n",
       " ('внимание', 'осведомленность'),\n",
       " ('вода', 'лед'),\n",
       " ('водитель', 'пилот'),\n",
       " ('воздух', 'гелий'),\n",
       " ('восхитительный', 'прекрасный'),\n",
       " ('восхитительный', 'радостный'),\n",
       " ('врач', 'ортодонт'),\n",
       " ('врач', 'самообладание'),\n",
       " ('выбирать', 'избирать'),\n",
       " ('выбор', 'вена'),\n",
       " ('выигрывать', 'доминировать'),\n",
       " ('выносливость', 'сила'),\n",
       " ('героиня', 'герой'),\n",
       " ('гитара', 'барабан'),\n",
       " ('глава', 'мэр'),\n",
       " ('гонорар', 'платеж'),\n",
       " ('гончая', 'лиса'),\n",
       " ('гора', 'выступ'),\n",
       " ('грешник', 'святой'),\n",
       " ('грипп', 'жар'),\n",
       " ('грохот', 'шум'),\n",
       " ('груженый', 'тяжелый'),\n",
       " ('группа', 'оркестр'),\n",
       " ('грязный', 'дешевый'),\n",
       " ('давать', 'одалживать'),\n",
       " ('дантист', 'полковник'),\n",
       " ('дверь', 'проем'),\n",
       " ('девочка', 'ребенок'),\n",
       " ('день', 'рассвет'),\n",
       " ('деньги', 'зарплата'),\n",
       " ('деньги', 'капитал'),\n",
       " ('деньги', 'жемчуг'),\n",
       " ('деньги', 'бриллиант'),\n",
       " ('дерево', 'клен'),\n",
       " ('дерево', 'бревно'),\n",
       " ('диета', 'салат'),\n",
       " ('диета', 'яблоко'),\n",
       " ('добывать', 'зарабатывать'),\n",
       " ('дождь', 'изморось'),\n",
       " ('дом', 'ковер'),\n",
       " ('дом', 'амбар'),\n",
       " ('домик', 'хижина'),\n",
       " ('дорожка', 'шар'),\n",
       " ('достигать', 'преуспевать'),\n",
       " ('дочь', 'ребенок'),\n",
       " ('дружелюбный', 'великодушный'),\n",
       " ('дуб', 'клен'),\n",
       " ('дышать', 'задыхаться'),\n",
       " ('дядя', 'тетя'),\n",
       " ('жар', 'болезнь'),\n",
       " ('желудок', 'талия'),\n",
       " ('желудок', 'вена'),\n",
       " ('желудок', 'спальня'),\n",
       " ('жена', 'солома'),\n",
       " ('жених', 'невеста'),\n",
       " ('женщина', 'мех'),\n",
       " ('жесткий', 'жестокий'),\n",
       " ('завтрак', 'бекон'),\n",
       " ('загрязнение', 'атмосфера'),\n",
       " ('загрязнение', 'президент'),\n",
       " ('задача', 'автострада'),\n",
       " ('задолжать', 'одалживать'),\n",
       " ('закат', 'рассвет'),\n",
       " ('закат', 'вечер'),\n",
       " ('занимать', 'нищенствовать'),\n",
       " ('зерно', 'горчица'),\n",
       " ('злак', 'пшеница'),\n",
       " ('игнорировать', 'исследовать'),\n",
       " ('игра', 'сноровка'),\n",
       " ('изгиб', 'угол'),\n",
       " ('износоустойчивость', 'повязка'),\n",
       " ('изобилие', 'множество'),\n",
       " ('имитировать', 'изображать'),\n",
       " ('исследовать', 'изучать'),\n",
       " ('истерика', 'помрачение'),\n",
       " ('исчезать', 'сжиматься'),\n",
       " ('кабинка', 'будка'),\n",
       " ('кажущийся', 'очевидный'),\n",
       " ('капитан', 'моряк'),\n",
       " ('карниз', 'занавеска'),\n",
       " ('карта', 'бридж'),\n",
       " ('кастрюля', 'прибор'),\n",
       " ('кисть', 'палец'),\n",
       " ('кисть', 'запястье'),\n",
       " ('кисть', 'ступня'),\n",
       " ('книга', 'литература'),\n",
       " ('книга', 'библия'),\n",
       " ('книга', 'эссе'),\n",
       " ('койка', 'больница'),\n",
       " ('колледж', 'профессия'),\n",
       " ('колледж', 'класс'),\n",
       " ('коллекционировать', 'сохранять'),\n",
       " ('комната', 'ванна'),\n",
       " ('комната', 'кровать'),\n",
       " ('композитор', 'писатель'),\n",
       " ('конечность', 'нога'),\n",
       " ('контейнер', 'мышь'),\n",
       " ('конь', 'жеребенок'),\n",
       " ('конь', 'бык'),\n",
       " ('коробка', 'лифт'),\n",
       " ('коробка', 'шляпа'),\n",
       " ('корова', 'скот'),\n",
       " ('корова', 'коза'),\n",
       " ('король', 'принцесса'),\n",
       " ('кость', 'лодыжка'),\n",
       " ('кость', 'локоть'),\n",
       " ('кот', 'питомец'),\n",
       " ('кот', 'кролик'),\n",
       " ('кроватка', 'колыбель'),\n",
       " ('кровать', 'спальня'),\n",
       " ('кровать', 'кроватка'),\n",
       " ('кровать', 'мебель'),\n",
       " ('кровать', 'кушетка'),\n",
       " ('кровать', 'стул'),\n",
       " ('кровь', 'плоть'),\n",
       " ('крыса', 'мышь'),\n",
       " ('кузен', 'дядя'),\n",
       " ('курица', 'индейка'),\n",
       " ('курс', 'желудок'),\n",
       " ('курятина', 'рис'),\n",
       " ('курятина', 'стейк'),\n",
       " ('кушетка', 'бейсбол'),\n",
       " ('ладить', 'угождать'),\n",
       " ('легкий', 'трудный'),\n",
       " ('легкий', 'большой'),\n",
       " ('лелеять', 'хранить'),\n",
       " ('лен', 'ткань'),\n",
       " ('лимон', 'чай'),\n",
       " ('линза', 'фотоаппарат'),\n",
       " ('ловкий', 'выносливый'),\n",
       " ('лодка', 'якорь'),\n",
       " ('лодыжка', 'окно'),\n",
       " ('локоть', 'лодыжка'),\n",
       " ('лошадь', 'кобыла'),\n",
       " ('луч', 'солнце'),\n",
       " ('мальчик', 'ребенок'),\n",
       " ('мальчик', 'партнер'),\n",
       " ('марихуана', 'трава'),\n",
       " ('масло', 'картофель'),\n",
       " ('масло', 'норка'),\n",
       " ('мать', 'опекунша'),\n",
       " ('медбрат', 'ученый'),\n",
       " ('металл', 'алюминий'),\n",
       " ('метр', 'ярд'),\n",
       " ('метр', 'дюйм'),\n",
       " ('механизм', 'двигатель'),\n",
       " ('миска', 'хвост'),\n",
       " ('мишень', 'стрела'),\n",
       " ('молекула', 'атом'),\n",
       " ('молекула', 'воздух'),\n",
       " ('морось', 'дождь'),\n",
       " ('мотель', 'гостиница'),\n",
       " ('мотор', 'двигатель'),\n",
       " ('мотор', 'лодка'),\n",
       " ('мужество', 'хладнокровие'),\n",
       " ('мужчина', 'ребенок'),\n",
       " ('мужчина', 'воин'),\n",
       " ('мужчина', 'братство'),\n",
       " ('мускул', 'кость'),\n",
       " ('мускул', 'язык'),\n",
       " ('мышь', 'управление'),\n",
       " ('мясо', 'бекон'),\n",
       " ('мясо', 'бутерброд'),\n",
       " ('мясо', 'хлеб'),\n",
       " ('мяч', 'корзина'),\n",
       " ('мяч', 'перчатка'),\n",
       " ('назначать', 'избирать'),\n",
       " ('народ', 'ружье'),\n",
       " ('народ', 'шар'),\n",
       " ('насекомое', 'пчела'),\n",
       " ('наставник', 'раввин'),\n",
       " ('наука', 'психология'),\n",
       " ('невеста', 'принцесса'),\n",
       " ('недорогой', 'дешевый'),\n",
       " ('нелегальный', 'безнравственный'),\n",
       " ('нетерпеливый', 'беспокойный'),\n",
       " ('неугомонный', 'молодой'),\n",
       " ('ноготь', 'кисть'),\n",
       " ('норка', 'мех'),\n",
       " ('ночь', 'рассвет'),\n",
       " ('облако', 'туман'),\n",
       " ('облако', 'дымка'),\n",
       " ('облако', 'погода'),\n",
       " ('облако', 'мгла'),\n",
       " ('обручаться', 'жениться'),\n",
       " ('общаться', 'молиться'),\n",
       " ('объявлять', 'провозглашать'),\n",
       " ('овца', 'ягненок'),\n",
       " ('овца', 'скот'),\n",
       " ('ограда', 'забор'),\n",
       " ('одежда', 'ткань'),\n",
       " ('одежда', 'пуговица'),\n",
       " ('одежда', 'пальто'),\n",
       " ('одежда', 'пиджак'),\n",
       " ('озеро', 'болото'),\n",
       " ('олово', 'алюминий'),\n",
       " ('олово', 'металл'),\n",
       " ('определять', 'предсказывать'),\n",
       " ('орава', 'толпа'),\n",
       " ('орган', 'печень'),\n",
       " ('оркестр', 'парад'),\n",
       " ('ортодонт', 'дантист'),\n",
       " ('осматривать', 'изучать'),\n",
       " ('отвергать', 'избегать'),\n",
       " ('отодвигать', 'отвергать'),\n",
       " ('отрицание', 'признание'),\n",
       " ('пакт', 'соглашение'),\n",
       " ('пакт', 'условие'),\n",
       " ('палец', 'ладонь'),\n",
       " ('палуба', 'мышь'),\n",
       " ('парень', 'бабник'),\n",
       " ('пачка', 'сигара'),\n",
       " ('петля', 'пояс'),\n",
       " ('пиво', 'алкоголь'),\n",
       " ('писатель', 'читатель'),\n",
       " ('платформа', 'контейнер'),\n",
       " ('плохой', 'безнравственный'),\n",
       " ('пляж', 'побережье'),\n",
       " ('пляж', 'остров'),\n",
       " ('пляж', 'море'),\n",
       " ('пляж', 'риф'),\n",
       " ('победа', 'триумф'),\n",
       " ('побеждать', 'преуспевать'),\n",
       " ('побеждать', 'завершать'),\n",
       " ('побеждать', 'доминировать'),\n",
       " ('поглощать', 'учиться'),\n",
       " ('поглощать', 'иметь'),\n",
       " ('поглощать', 'отделяться'),\n",
       " ('подбадривать', 'отговаривать'),\n",
       " ('покидать', 'странствовать'),\n",
       " ('покладистый', 'гибкий'),\n",
       " ('пол', 'палуба'),\n",
       " ('политик', 'президент'),\n",
       " ('полицейский', 'шериф'),\n",
       " ('полиэстер', 'хлопок'),\n",
       " ('помощница', 'служанка'),\n",
       " ('постель', 'одеяло'),\n",
       " ('потолок', 'собор'),\n",
       " ('право', 'правосудие'),\n",
       " ('праздник', 'церемония'),\n",
       " ('предполагать', 'предсказывать'),\n",
       " ('предприятие', 'промышленность'),\n",
       " ('предубеждение', 'мнение'),\n",
       " ('президент', 'мэр'),\n",
       " ('преуспевать', 'проваливать'),\n",
       " ('преуспевать', 'пытаться'),\n",
       " ('принимать', 'отвергать'),\n",
       " ('принцесса', 'остров'),\n",
       " ('притворяться', 'казаться'),\n",
       " ('притворяться', 'воображать'),\n",
       " ('притворяться', 'изображать'),\n",
       " ('приятный', 'великодушный'),\n",
       " ('проваливать', 'обескураживать'),\n",
       " ('провод', 'шнур'),\n",
       " ('провозглашать', 'объявлять'),\n",
       " ('проигрывать', 'проваливать'),\n",
       " ('прореха', 'соглашение'),\n",
       " ('просить', 'молиться'),\n",
       " ('простой', 'легкий'),\n",
       " ('пруток', 'тюрьма'),\n",
       " ('пруток', 'клетка'),\n",
       " ('псалом', 'завоевание'),\n",
       " ('псалом', 'солома'),\n",
       " ('птица', 'ястреб'),\n",
       " ('птица', 'индейка'),\n",
       " ('птица', 'курица'),\n",
       " ('пузырь', 'пена'),\n",
       " ('путешествие', 'завоевание'),\n",
       " ('пчела', 'матка'),\n",
       " ('пчела', 'муравей'),\n",
       " ('работник', 'механик'),\n",
       " ('раввин', 'священник'),\n",
       " ('разрушать', 'создавать'),\n",
       " ('разрушать', 'организовывать'),\n",
       " ('разрушать', 'строить'),\n",
       " ('разрушение', 'построение'),\n",
       " ('ранимый', 'бесстрастный'),\n",
       " ('ребенок', 'взрослый'),\n",
       " ('ребенок', 'мальчик'),\n",
       " ('ребячливый', 'безрассудный'),\n",
       " ('река', 'долина'),\n",
       " ('рис', 'боб'),\n",
       " ('рис', 'мальчик'),\n",
       " ('рожать', 'носить'),\n",
       " ('рожок', 'барабан'),\n",
       " ('ружье', 'пушка'),\n",
       " ('ружье', 'нож'),\n",
       " ('ружье', 'шалость'),\n",
       " ('ружье', 'рассвет'),\n",
       " ('ружье', 'мех'),\n",
       " ('рука', 'запястье'),\n",
       " ('рука', 'мускул'),\n",
       " ('рука', 'вена'),\n",
       " ('салат', 'уксус'),\n",
       " ('самолет', 'аэропорт'),\n",
       " ('самолет', 'джет'),\n",
       " ('самоуверенный', 'уверенный'),\n",
       " ('сахар', 'мед'),\n",
       " ('свитер', 'пиджак'),\n",
       " ('священник', 'монах'),\n",
       " ('сжиматься', 'расти'),\n",
       " ('сила', 'мощь'),\n",
       " ('симулировать', 'притворяться'),\n",
       " ('скот', 'бык'),\n",
       " ('скрипка', 'инструмент'),\n",
       " ('скромный', 'покладистый'),\n",
       " ('скрытный', 'странный'),\n",
       " ('слово', 'литература'),\n",
       " ('слушаться', 'подчиняться'),\n",
       " ('слякоть', 'грязь'),\n",
       " ('смерть', 'погребение'),\n",
       " ('смерть', 'бедствие'),\n",
       " ('снег', 'шторм'),\n",
       " ('современный', 'старинный'),\n",
       " ('создатель', 'изготовитель'),\n",
       " ('соперник', 'противник'),\n",
       " ('сосуд', 'вена'),\n",
       " ('спиртное', 'век'),\n",
       " ('спиртное', 'группа'),\n",
       " ('сплетня', 'новость'),\n",
       " ('стакан', 'рожок'),\n",
       " ('стейк', 'мясо'),\n",
       " ('стекло', 'хрусталь'),\n",
       " ('стена', 'кирпич'),\n",
       " ('стена', 'отделка'),\n",
       " ('странный', 'скрытный'),\n",
       " ('странствовать', 'бродить'),\n",
       " ('стул', 'скамейка'),\n",
       " ('ступня', 'голова'),\n",
       " ('судно', 'палуба'),\n",
       " ('сумочка', 'сумка'),\n",
       " ('счастие', 'умиротворенность'),\n",
       " ('табак', 'сигарета'),\n",
       " ('такси', 'таксомотор'),\n",
       " ('таксомотор', 'автобус'),\n",
       " ('тарелка', 'миска'),\n",
       " ('твердый', 'прочный'),\n",
       " ('твердый', 'плотный'),\n",
       " ('теленок', 'бык'),\n",
       " ('телефон', 'будка'),\n",
       " ('тело', 'желудок'),\n",
       " ('тело', 'позвоночник'),\n",
       " ('терапевт', 'врач'),\n",
       " ('тетя', 'племянник'),\n",
       " ('толпа', 'парад'),\n",
       " ('тоскливый', 'скучный'),\n",
       " ('трава', 'травинка'),\n",
       " ('трава', 'мох'),\n",
       " ('трапеза', 'ужин'),\n",
       " ('трапеза', 'талия'),\n",
       " ('трубка', 'сигара'),\n",
       " ('туча', 'буря'),\n",
       " ('тяжелый', 'трудный'),\n",
       " ('тяжелый', 'легкий'),\n",
       " ('убежденный', 'бесспорный'),\n",
       " ('убежище', 'хижина'),\n",
       " ('убивать', 'душить'),\n",
       " ('уверенность', 'самость'),\n",
       " ('угождать', 'умолять'),\n",
       " ('угождать', 'развлекать'),\n",
       " ('удовлетворять', 'угождать'),\n",
       " ('ужин', 'трапеза'),\n",
       " ('ужин', 'суп'),\n",
       " ('ужин', 'курятина'),\n",
       " ('ум', 'проницательность'),\n",
       " ('уменьшаться', 'сжиматься'),\n",
       " ('учащийся', 'ученик'),\n",
       " ('учащийся', 'преподаватель'),\n",
       " ('ущелие', 'долина'),\n",
       " ('факультет', 'юриспруденция'),\n",
       " ('фильм', 'кинолента'),\n",
       " ('флот', 'армия'),\n",
       " ('формула', 'уравнение'),\n",
       " ('химия', 'теория'),\n",
       " ('холм', 'утес'),\n",
       " ('цветок', 'фиалка'),\n",
       " ('цветок', 'луковица'),\n",
       " ('цветок', 'выносливость'),\n",
       " ('церковь', 'хор'),\n",
       " ('чашка', 'кувшин'),\n",
       " ('чувство', 'интуиция'),\n",
       " ('чудовище', 'демон'),\n",
       " ('шея', 'позвоночник'),\n",
       " ('шланг', 'сад'),\n",
       " ('шляпа', 'пальто'),\n",
       " ('шляпка', 'гвоздь'),\n",
       " ('шоколад', 'пирог'),\n",
       " ('шпиль', 'часовня'),\n",
       " ('шум', 'грохот'),\n",
       " ('щека', 'язык'),\n",
       " ('экзотичный', 'редкий'),\n",
       " ('эксцентричный', 'странный'),\n",
       " ('эластичный', 'гибкий'),\n",
       " ('элегантность', 'стиль'),\n",
       " ('электорат', 'партия'),\n",
       " ('яблоко', 'сок'),\n",
       " ('яблоко', 'сладость'),\n",
       " ('яблоко', 'повидло'),\n",
       " ('яблоко', 'лимон'),\n",
       " ('яблоко', 'солнце'),\n",
       " ('ядро', 'пушка'),\n",
       " ('ярд', 'дюйм'),\n",
       " ('яростный', 'злой')]"
      ]
     },
     "execution_count": 219,
     "metadata": {},
     "output_type": "execute_result"
    }
   ],
   "source": [
    "errors"
   ]
  },
  {
   "cell_type": "code",
   "execution_count": 101,
   "metadata": {},
   "outputs": [],
   "source": [
    "with open('data/corpus.json', encoding='utf8') as f:\n",
    "    new_corpus = json.load(f)"
   ]
  },
  {
   "cell_type": "code",
   "execution_count": 103,
   "metadata": {},
   "outputs": [
    {
     "data": {
      "text/plain": [
       "['затем',\n",
       " 'эквайринг',\n",
       " 'разблокировали',\n",
       " 'но',\n",
       " 'тут',\n",
       " 'начинается',\n",
       " 'самое',\n",
       " 'веселое',\n",
       " 'мне',\n",
       " 'выставляют',\n",
       " 'счет',\n",
       " 'за',\n",
       " 'пользование',\n",
       " 'нерабочим',\n",
       " 'экварингом']"
      ]
     },
     "execution_count": 103,
     "metadata": {},
     "output_type": "execute_result"
    }
   ],
   "source": [
    "new_corpus[1]"
   ]
  },
  {
   "cell_type": "markdown",
   "metadata": {},
   "source": []
  },
  {
   "cell_type": "code",
   "execution_count": null,
   "metadata": {},
   "outputs": [],
   "source": []
  }
 ],
 "metadata": {
  "kernelspec": {
   "display_name": "Python 3 (ipykernel)",
   "language": "python",
   "name": "python3"
  },
  "language_info": {
   "codemirror_mode": {
    "name": "ipython",
    "version": 3
   },
   "file_extension": ".py",
   "mimetype": "text/x-python",
   "name": "python",
   "nbconvert_exporter": "python",
   "pygments_lexer": "ipython3",
   "version": "3.8.12"
  }
 },
 "nbformat": 4,
 "nbformat_minor": 2
}
